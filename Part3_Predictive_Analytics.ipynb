{
  "cells": [
    {
      "cell_type": "code",
      "execution_count": null,
      "metadata": {
        "id": "PNgsuQOP6g_o"
      },
      "outputs": [],
      "source": [
        "!apt-get install openjdk-8-jdk-headless -qq > /dev/null\n",
        "!wget -q https://archive.apache.org/dist/spark/spark-3.1.2/spark-3.1.2-bin-hadoop3.2.tgz\n",
        "!tar xf spark-3.1.2-bin-hadoop3.2.tgz\n",
        "!pip install -q findspark\n",
        "\n",
        "import os\n",
        "os.environ[\"JAVA_HOME\"] = \"/usr/lib/jvm/java-8-openjdk-amd64\"\n",
        "os.environ[\"SPARK_HOME\"] = \"/content/spark-3.1.2-bin-hadoop3.2\"\n",
        "import findspark\n",
        "findspark.init()\n",
        "from pyspark.sql import SparkSession\n",
        "from pyspark import SparkConf, SparkContext\n",
        "from datetime import datetime, date, timedelta\n",
        "from dateutil import relativedelta\n",
        "from pyspark.sql import SQLContext, Row\n",
        "from pyspark.sql.types import *\n",
        "from pyspark.sql.functions import *\n",
        "from pyspark.sql import DataFrame\n",
        "from pyspark.sql.functions import *\n",
        "from pyspark.sql.functions import to_timestamp, to_date\n",
        "from pyspark.sql import functions as F  \n",
        "from pyspark.sql.functions import collect_list, collect_set, concat, first, array_distinct, col, size, expr\n",
        "from pyspark.sql import DataFrame \n",
        "import pandas as pd\n",
        "import matplotlib.pyplot as plt\n",
        "from pyspark.ml.regression import LinearRegression\n",
        "from pyspark.ml import Pipeline\n",
        "from pyspark.ml.linalg import Vectors\n",
        "from pyspark.ml.feature import VectorAssembler, StringIndexer, OneHotEncoder"
      ]
    },
    {
      "cell_type": "code",
      "execution_count": null,
      "metadata": {
        "id": "6MZAE4Dd62Ac"
      },
      "outputs": [],
      "source": [
        "spark = SparkSession.builder.getOrCreate()"
      ]
    },
    {
      "cell_type": "code",
      "execution_count": null,
      "metadata": {
        "id": "8890U2yl7lgb"
      },
      "outputs": [],
      "source": [
        "# read file\n",
        "df_venmo = spark.read.parquet('VenmoSample.snappy.parquet')"
      ]
    },
    {
      "cell_type": "code",
      "execution_count": null,
      "metadata": {
        "colab": {
          "base_uri": "https://localhost:8080/"
        },
        "id": "dZRyI3_W9jKy",
        "outputId": "d8ed46bb-1776-436e-8acf-ba9fcb64a055"
      },
      "outputs": [
        {
          "name": "stdout",
          "output_type": "stream",
          "text": [
            "root\n",
            " |-- user1: integer (nullable = true)\n",
            " |-- user2: integer (nullable = true)\n",
            " |-- transaction_type: string (nullable = true)\n",
            " |-- datetime: timestamp (nullable = true)\n",
            " |-- description: string (nullable = true)\n",
            " |-- is_business: boolean (nullable = true)\n",
            " |-- story_id: string (nullable = true)\n",
            "\n"
          ]
        }
      ],
      "source": [
        "df_venmo.printSchema()\n",
        "df_venmo.createOrReplaceTempView(\"df_venmo\")"
      ]
    },
    {
      "cell_type": "code",
      "execution_count": null,
      "metadata": {
        "colab": {
          "base_uri": "https://localhost:8080/"
        },
        "id": "-ryiXQyPnjhi",
        "outputId": "e2688034-abf1-4a84-c520-ce40b275a534"
      },
      "outputs": [
        {
          "name": "stdout",
          "output_type": "stream",
          "text": [
            "+-------+-------------------+\n",
            "|  user1|     First_Datetime|\n",
            "+-------+-------------------+\n",
            "| 157793|2012-11-08 07:59:22|\n",
            "| 255040|2013-11-12 05:56:32|\n",
            "| 376270|2014-01-10 11:38:16|\n",
            "| 377372|2014-03-10 00:26:05|\n",
            "| 392476|2015-05-31 08:24:20|\n",
            "| 400129|2014-04-20 03:51:40|\n",
            "| 456851|2013-12-29 12:09:09|\n",
            "| 470185|2013-10-03 09:23:14|\n",
            "| 481749|2014-02-25 15:07:01|\n",
            "| 485287|2014-09-26 20:14:43|\n",
            "| 491584|2013-11-26 17:18:08|\n",
            "| 504967|2015-04-19 06:33:56|\n",
            "| 512750|2014-04-24 22:25:25|\n",
            "| 638120|2013-11-18 09:56:21|\n",
            "| 695980|2014-04-19 13:14:20|\n",
            "| 857783|2014-02-28 04:34:46|\n",
            "| 897873|2015-08-21 23:03:20|\n",
            "| 952471|2014-05-15 12:05:40|\n",
            "|1029768|2014-07-16 06:57:34|\n",
            "|1030811|2015-07-05 22:42:53|\n",
            "+-------+-------------------+\n",
            "only showing top 20 rows\n",
            "\n"
          ]
        }
      ],
      "source": [
        "# The first time a user made the transaction\n",
        "df_venmo_first_date = spark.sql(\"SELECT user1, MIN(datetime) AS First_Datetime \\\n",
        "                                 FROM (SELECT User1, datetime FROM df_venmo \\\n",
        "                                 UNION SELECT User2, datetime FROM df_venmo) t1 \\\n",
        "                                 GROUP BY user1\")\n",
        "df_venmo_first_date.createOrReplaceTempView('df_venmo_first_date')\n",
        "df_venmo_first_date.show()\n"
      ]
    },
    {
      "cell_type": "code",
      "execution_count": null,
      "metadata": {
        "colab": {
          "base_uri": "https://localhost:8080/"
        },
        "id": "cG_OOoiy0qpD",
        "outputId": "dacab83f-4fb4-4ccd-ff32-4ca6cbac254f"
      },
      "outputs": [
        {
          "name": "stdout",
          "output_type": "stream",
          "text": [
            "+-----+-------+-------------------+\n",
            "|user1|  user2|           datetime|\n",
            "+-----+-------+-------------------+\n",
            "| 4262|   5234|2015-12-15 03:39:14|\n",
            "|23372|  21669|2013-06-13 20:24:02|\n",
            "|25330|  56799|2013-02-13 01:45:21|\n",
            "|29489|  31249|2013-06-17 08:18:15|\n",
            "|30655|  49860|2013-12-15 01:20:23|\n",
            "|36275|  37166|2014-01-22 12:39:50|\n",
            "|44189|  47257|2016-02-19 09:15:15|\n",
            "|45827|  39716|2013-05-15 04:21:55|\n",
            "|48173|  41673|2015-10-10 02:10:58|\n",
            "|49753| 147331|2016-01-10 12:47:22|\n",
            "|50024| 141099|2013-12-05 13:46:07|\n",
            "|51320| 360702|2013-08-11 14:05:02|\n",
            "|52122| 262551|2016-03-16 06:26:45|\n",
            "|52565|3048817|2016-03-04 07:28:44|\n",
            "|57751| 803442|2016-07-17 06:04:52|\n",
            "|63883| 464526|2015-11-25 07:30:30|\n",
            "|64130|  48651|2013-05-02 00:53:55|\n",
            "|64891| 194967|2016-02-27 05:22:07|\n",
            "|65457| 135284|2016-09-24 07:06:17|\n",
            "|65573|  49044|2015-09-09 02:02:42|\n",
            "+-----+-------+-------------------+\n",
            "only showing top 20 rows\n",
            "\n",
            "+-----+-------+-------------------+------------------+\n",
            "|user1|  user2|           datetime|lifetime_indicator|\n",
            "+-----+-------+-------------------+------------------+\n",
            "|    2|    220|2012-11-23 06:03:42|                 0|\n",
            "|    3|     43|2016-06-27 01:14:37|                 0|\n",
            "|    3| 263437|2016-07-22 21:16:37|                 1|\n",
            "|    3|     52|2016-09-22 15:30:09|                 3|\n",
            "|    3|2382556|2016-10-07 08:50:23|                 4|\n",
            "|    3|2382556|2016-10-06 10:49:45|                 4|\n",
            "|    3|1079020|2016-10-07 23:37:56|                 4|\n",
            "|    3|7854140|2016-10-09 03:36:13|                 4|\n",
            "|    3|1204190|2016-10-09 01:56:24|                 4|\n",
            "|    3| 567957|2016-10-29 09:28:07|                 5|\n",
            "|    4| 122744|2012-12-03 03:35:53|                 0|\n",
            "|    4| 125527|2012-12-10 10:27:55|                 1|\n",
            "|    4| 125527|2012-12-15 05:51:12|                 1|\n",
            "|    4| 125755|2013-01-04 10:20:36|                 2|\n",
            "|    6| 676003|2014-06-28 00:18:16|                 0|\n",
            "|    6|4330489|2015-04-14 04:34:23|                10|\n",
            "|    8| 900433|2015-08-11 02:08:47|                 0|\n",
            "|    8| 900433|2015-09-20 10:49:54|                 2|\n",
            "|    8| 900433|2016-03-02 07:35:34|                 7|\n",
            "|    8| 659067|2016-02-10 11:55:25|                 7|\n",
            "+-----+-------+-------------------+------------------+\n",
            "only showing top 20 rows\n",
            "\n"
          ]
        }
      ],
      "source": [
        "# Create lifetime indicators\n",
        "df_venmo_all = spark.sql('SELECT user1, user2, datetime FROM df_venmo\\\n",
        "                          UNION SELECT user2, user1, datetime FROM df_venmo')\n",
        "df_venmo_all.createOrReplaceTempView('df_venmo_all')\n",
        "#df_venmo_all.show()\n",
        "df_venmo_lft = spark.sql ('SELECT t1.user1, t1.user2, t1.datetime, CEILING(DATEDIFF(t1.datetime,t2.First_Datetime)/30) AS lifetime_indicator FROM df_venmo_all t1 INNER JOIN df_venmo_first_date t2\\\n",
        "                          ON t1.user1 = t2.user1\\\n",
        "                          WHERE CEILING(DATEDIFF(t1.datetime,t2.First_Datetime)/30) >= 0 AND CEILING(DATEDIFF(t1.datetime,t2.First_Datetime)/30)<=12\\\n",
        "                          ORDER BY 1,4     ')\n",
        "df_venmo_lft.createOrReplaceTempView('df_venmo_lft')\n",
        "df_venmo_lft.show()"
      ]
    },
    {
      "cell_type": "code",
      "execution_count": null,
      "metadata": {
        "id": "ih_8dMgU3bHu"
      },
      "outputs": [],
      "source": [
        "# number of friends, and number of FFs across lifetime\n",
        "friends_lft = spark.sql(\"SELECT user1 AS User, COUNT(DISTINCT user2) AS Num_Friend, lifetime_indicator \\\n",
        "                  FROM df_venmo_lft\\\n",
        "                  GROUP BY 1,3\\\n",
        "                  ORDER BY 1, 3\")\n",
        "friends_lft.createOrReplaceTempView('friends_lft')\n",
        "#friends_lft.show()\n",
        "\n",
        "# create continuous user lifetime\n",
        "lst = [0,1,2,3,4,5,6,7,8,9,10,11,12]\n",
        "df_usertime = friends_lft.select(\"User\").withColumn(\"time_lst\", F.array([F.lit(x) for x in lst]))\n",
        "df_usertime = df_usertime.withColumn(\"time_lst\", F.explode(col(\"time_lst\")))\n",
        "df_usertime.createOrReplaceTempView(\"df_usertime\")\n",
        "df_usertime.show()\n",
        "\n",
        "#friends_lft_continuous = spark.sql('SELECT User, lifetime_indicator, SUM(Num_Friend) AS Friend_Cnt\\\n",
        "#                                   FROM\\\n",
        "#                                  (SELECT User, Num_Friend, lifetime_indicator FROM friends_lft\\\n",
        "#                                   UNION \\\n",
        "#                                    SELECT User, 0, time_lst FROM df_usertime) T\\\n",
        "#                                    GROUP BY 1,2\\\n",
        "#                                    ORDER BY 1,2')\n",
        "#friends_lft_continuous.createOrReplaceTempView('friends_lft_continuous')\n",
        "#friends_lft_continuous.show()"
      ]
    },
    {
      "cell_type": "code",
      "execution_count": null,
      "metadata": {
        "colab": {
          "base_uri": "https://localhost:8080/"
        },
        "id": "Skp1gG6P3Bar",
        "outputId": "d74db946-ee6f-45b4-f0b3-3e00936688b2"
      },
      "outputs": [
        {
          "name": "stdout",
          "output_type": "stream",
          "text": [
            "+----+------------------+------+\n",
            "|User|lifetime_indicator|FF_Cnt|\n",
            "+----+------------------+------+\n",
            "|   2|                 0|     0|\n",
            "|   2|                 1|     0|\n",
            "|   2|                 2|     0|\n",
            "|   2|                 3|     0|\n",
            "|   2|                 4|     0|\n",
            "|   2|                 5|     0|\n",
            "|   2|                 6|     0|\n",
            "|   2|                 7|     0|\n",
            "|   2|                 8|     0|\n",
            "|   2|                 9|     0|\n",
            "|   2|                10|     0|\n",
            "|   2|                11|     0|\n",
            "|   2|                12|     0|\n",
            "|   3|                 0|     6|\n",
            "|   3|                 1|     7|\n",
            "|   3|                 2|     0|\n",
            "|   3|                 3|     1|\n",
            "|   3|                 4|     6|\n",
            "|   3|                 5|     8|\n",
            "|   3|                 6|     0|\n",
            "+----+------------------+------+\n",
            "only showing top 20 rows\n",
            "\n"
          ]
        }
      ],
      "source": [
        "# number of FFs\n",
        "FF_lft = spark.sql(\"SELECT t1.user1, COUNT(DISTINCT t2.user2) AS Num_FF, t1.lifetime_indicator\\\n",
        "                    FROM df_venmo_lft t1, df_venmo_lft t2\\\n",
        "                    WHERE t1.user2 = t2.user1 AND t1.datetime > t2.datetime AND t1.user1 <> t2.user2\\\n",
        "                    GROUP BY 1,3\\\n",
        "                    ORDER BY 1,3\")\n",
        "FF_lft.createOrReplaceTempView('FF_lft')\n",
        "\n",
        "FF_lft_continuous = spark.sql('SELECT user1 AS User, lifetime_indicator, SUM(Num_FF) AS FF_Cnt\\\n",
        "                                    FROM\\\n",
        "                                    (SELECT user1, Num_FF, lifetime_indicator FROM FF_lft\\\n",
        "                                    UNION \\\n",
        "                                    SELECT User, 0, time_lst FROM df_usertime) T\\\n",
        "                                    GROUP BY 1,2\\\n",
        "                                    ORDER BY 1,2')\n",
        "FF_lft_continuous.createOrReplaceTempView('FF_lft_continuous')\n",
        "FF_lft_continuous.show()\n"
      ]
    },
    {
      "cell_type": "markdown",
      "metadata": {
        "id": "908Z5QxpR90z"
      },
      "source": [
        "# **Predictive Analytics**"
      ]
    },
    {
      "cell_type": "markdown",
      "metadata": {
        "id": "VdYZzbszSALO"
      },
      "source": [
        "**Task_7: Create dependent variable Y, i.e. the total number of transactions at lifetime\n",
        "point 12. In other words, for every user, we need to count how many transactions s/he had\n",
        "committed during her/his twelve months in Venmo.**"
      ]
    },
    {
      "cell_type": "code",
      "execution_count": null,
      "metadata": {
        "colab": {
          "base_uri": "https://localhost:8080/"
        },
        "id": "qmuMjSobSDrb",
        "outputId": "b166287c-db3b-4b07-d6ae-cf825cdb9af2"
      },
      "outputs": [
        {
          "name": "stdout",
          "output_type": "stream",
          "text": [
            "+-----+---+\n",
            "|user1|  y|\n",
            "+-----+---+\n",
            "|    2|  1|\n",
            "|    3|  9|\n",
            "|    4|  4|\n",
            "|    6|  2|\n",
            "|    8|  6|\n",
            "|    9|  5|\n",
            "|   10| 12|\n",
            "|   11| 13|\n",
            "|   12|  5|\n",
            "|   13|  5|\n",
            "|   16|  7|\n",
            "|   18|  1|\n",
            "|   19|  2|\n",
            "|   24|  2|\n",
            "|   28|  2|\n",
            "|   29|  2|\n",
            "|   31|  1|\n",
            "|   32|  1|\n",
            "|   34|  5|\n",
            "|   42|  5|\n",
            "+-----+---+\n",
            "only showing top 20 rows\n",
            "\n"
          ]
        }
      ],
      "source": [
        "df_venmo_y = spark.sql(\"SELECT user1, COUNT(*) AS y\\\n",
        "                        FROM df_venmo_lft\\\n",
        "                        GROUP BY user1\\\n",
        "                        ORDER BY 1\")\n",
        "df_venmo_y.createOrReplaceTempView('df_venmo_y')\n",
        "df_venmo_y.show()"
      ]
    },
    {
      "cell_type": "markdown",
      "metadata": {
        "id": "_iQ9XV_-Xsdk"
      },
      "source": [
        "**Task_8: Create the recency and frequency variables. In CRM (Customer Relationship Management), this predictive framework is\n",
        "known as RFM. Here, we don’t have monetary amounts, so we will focus on just RF. Recency\n",
        "refers to the last time a user was active, and frequency is how often a user uses Venmo in a\n",
        "month. We need to compute these metrics across a user’s lifetime in Venmo (from 0 up to 12).**"
      ]
    },
    {
      "cell_type": "code",
      "execution_count": null,
      "metadata": {
        "colab": {
          "base_uri": "https://localhost:8080/"
        },
        "id": "IuwswTQaXxWz",
        "outputId": "942b359a-36b9-4ce8-f9a6-e5aefeb404d2"
      },
      "outputs": [
        {
          "name": "stdout",
          "output_type": "stream",
          "text": [
            "+----+------------------+--------+---------------+\n",
            "|user|lifetime_indicator|days_max|transaction_cnt|\n",
            "+----+------------------+--------+---------------+\n",
            "|   2|                 0|       0|              1|\n",
            "|   2|                 1|       0|              0|\n",
            "|   2|                 2|       0|              0|\n",
            "|   2|                 3|       0|              0|\n",
            "|   2|                 4|       0|              0|\n",
            "|   2|                 5|       0|              0|\n",
            "|   2|                 6|       0|              0|\n",
            "|   2|                 7|       0|              0|\n",
            "|   2|                 8|       0|              0|\n",
            "|   2|                 9|       0|              0|\n",
            "|   2|                10|       0|              0|\n",
            "|   2|                11|       0|              0|\n",
            "|   2|                12|       0|              0|\n",
            "|   3|                 0|       0|              1|\n",
            "|   3|                 1|      25|              1|\n",
            "|   3|                 2|       0|              0|\n",
            "|   3|                 3|      87|              1|\n",
            "|   3|                 4|     104|              5|\n",
            "|   3|                 5|     124|              1|\n",
            "|   3|                 6|       0|              0|\n",
            "+----+------------------+--------+---------------+\n",
            "only showing top 20 rows\n",
            "\n"
          ]
        }
      ],
      "source": [
        "temp1 = spark.sql('SELECT t1.user1 AS user, t1.lifetime_indicator, MAX(DATEDIFF(t1.datetime,t2.First_Datetime)) AS max_days, COUNT(*) AS transactions\\\n",
        "                FROM df_venmo_lft t1\\\n",
        "                INNER JOIN df_venmo_first_date t2\\\n",
        "                ON t1.user1 = t2.user1\\\n",
        "                GROUP BY 1,2\\\n",
        "                ORDER BY 1,2')\n",
        "temp1.createOrReplaceTempView('temp1')\n",
        "\n",
        "temp2 = spark.sql('SELECT user, lifetime_indicator, MAX(max_days) AS days_max, SUM(transactions) AS transaction_cnt FROM \\\n",
        "                    (SELECT user, lifetime_indicator, max_days, transactions FROM temp1\\\n",
        "                    UNION \\\n",
        "                    SELECT User, time_lst,0,0 FROM df_usertime) t\\\n",
        "                    GROUP BY 1,2\\\n",
        "                    ORDER BY 1,2')\n",
        "temp2.createOrReplaceTempView('temp2')\n",
        "temp2.show()\n",
        "\n"
      ]
    },
    {
      "cell_type": "code",
      "execution_count": null,
      "metadata": {
        "colab": {
          "base_uri": "https://localhost:8080/"
        },
        "id": "529A6kfs--jg",
        "outputId": "fc5495e2-3758-4ceb-d158-7fd151ba2fed"
      },
      "outputs": [
        {
          "name": "stdout",
          "output_type": "stream",
          "text": [
            "+----+------------------+-------+---------+------------------+\n",
            "|user|lifetime_indicator|recency|frequency|     frequency_cum|\n",
            "+----+------------------+-------+---------+------------------+\n",
            "|   2|                 0|      0|     30.0|               0.0|\n",
            "|   2|                 1|     30|     null|              30.0|\n",
            "|   2|                 2|     60|     null|              60.0|\n",
            "|   2|                 3|     90|     null|              90.0|\n",
            "|   2|                 4|    120|     null|             120.0|\n",
            "|   2|                 5|    150|     null|             150.0|\n",
            "|   2|                 6|    180|     null|             180.0|\n",
            "|   2|                 7|    210|     null|             210.0|\n",
            "|   2|                 8|    240|     null|             240.0|\n",
            "|   2|                 9|    270|     null|             270.0|\n",
            "|   2|                10|    300|     null|             300.0|\n",
            "|   2|                11|    330|     null|             330.0|\n",
            "|   2|                12|    360|     null|             360.0|\n",
            "|   3|                 0|      0|     30.0|               0.0|\n",
            "|   3|                 1|      5|     30.0|              15.0|\n",
            "|   3|                 2|     60|     null|              30.0|\n",
            "|   3|                 3|      3|     30.0|              30.0|\n",
            "|   3|                 4|     16|      6.0|              15.0|\n",
            "|   3|                 5|     26|     30.0|16.666666666666668|\n",
            "|   3|                 6|    180|     null|              20.0|\n",
            "+----+------------------+-------+---------+------------------+\n",
            "only showing top 20 rows\n",
            "\n"
          ]
        }
      ],
      "source": [
        "temp3 = spark.sql('SELECT user, lifetime_indicator, lifetime_indicator*30-days_max AS recency, transaction_cnt,\\\n",
        "                  SUM(transaction_cnt) OVER (PARTITION BY user ORDER BY lifetime_indicator) AS transaction_cnt_cum\\\n",
        "                  FROM temp2\\\n",
        "                  ORDER BY 1,2')\n",
        "temp3.createOrReplaceTempView('temp3')\n",
        "df_RF = spark.sql('SELECT user, lifetime_indicator,  recency, 30/transaction_cnt as frequency, (lifetime_indicator*30)/transaction_cnt_cum AS frequency_cum\\\n",
        "                  FROM temp3\\\n",
        "                 ORDER BY 1,2')\n",
        "df_RF.createOrReplaceTempView('df_RF')\n",
        "df_RF.show()"
      ]
    },
    {
      "cell_type": "code",
      "execution_count": null,
      "metadata": {
        "colab": {
          "base_uri": "https://localhost:8080/"
        },
        "id": "DULCFQtly2YW",
        "outputId": "d79fa43f-6efd-429b-acf9-d2534d80629b"
      },
      "outputs": [
        {
          "name": "stdout",
          "output_type": "stream",
          "text": [
            "+-----+---+--------+\n",
            "|user1|  y|time_lst|\n",
            "+-----+---+--------+\n",
            "|    2|  1|       0|\n",
            "|    2|  1|       1|\n",
            "|    2|  1|       2|\n",
            "|    2|  1|       3|\n",
            "|    2|  1|       4|\n",
            "|    2|  1|       5|\n",
            "|    2|  1|       6|\n",
            "|    2|  1|       7|\n",
            "|    2|  1|       8|\n",
            "|    2|  1|       9|\n",
            "|    2|  1|      10|\n",
            "|    2|  1|      11|\n",
            "|    2|  1|      12|\n",
            "|    3|  9|       0|\n",
            "|    3|  9|       1|\n",
            "|    3|  9|       2|\n",
            "|    3|  9|       3|\n",
            "|    3|  9|       4|\n",
            "|    3|  9|       5|\n",
            "|    3|  9|       6|\n",
            "+-----+---+--------+\n",
            "only showing top 20 rows\n",
            "\n"
          ]
        }
      ],
      "source": [
        "# create dataframe with two columns: user1 and time_list (0-12)\n",
        "# each user has lifetime 0 to 12\n",
        "lst = [0,1,2,3,4,5,6,7,8,9,10,11,12]\n",
        "df_timelst = df_venmo_y.withColumn(\"time_lst\", F.array([F.lit(x) for x in lst]))\n",
        "df_timelst = df_timelst.withColumn(\"time_lst\", F.explode(col(\"time_lst\")))\n",
        "\n",
        "df_timelst.createOrReplaceTempView(\"df_timelst\")\n",
        "df_timelst.show()"
      ]
    },
    {
      "cell_type": "markdown",
      "metadata": {
        "id": "KQoYmb8fgoyg"
      },
      "source": [
        "**Task_9: For each user’s lifetime point, regress recency and frequency on Y. Plot the MSE (Mean Squared Error)\n",
        "for each lifetime point. In other words, the x-axis will be lifetime in months (0-12), and the\n",
        "y-axis will be the MSE.**"
      ]
    },
    {
      "cell_type": "code",
      "execution_count": null,
      "metadata": {
        "colab": {
          "base_uri": "https://localhost:8080/"
        },
        "id": "4lr0x8-TatOX",
        "outputId": "f2f08de2-01c7-436d-e92b-c159566d7666"
      },
      "outputs": [
        {
          "name": "stdout",
          "output_type": "stream",
          "text": [
            "+----+------------------+-------+---------+------------------+---+\n",
            "|user|lifetime_indicator|recency|frequency|     frequency_cum|  y|\n",
            "+----+------------------+-------+---------+------------------+---+\n",
            "|   2|                 0|      0|     30.0|               0.0|  1|\n",
            "|   2|                 1|     30|     null|              30.0|  1|\n",
            "|   2|                 2|     60|     null|              60.0|  1|\n",
            "|   2|                 3|     90|     null|              90.0|  1|\n",
            "|   2|                 4|    120|     null|             120.0|  1|\n",
            "|   2|                 5|    150|     null|             150.0|  1|\n",
            "|   2|                 6|    180|     null|             180.0|  1|\n",
            "|   2|                 7|    210|     null|             210.0|  1|\n",
            "|   2|                 8|    240|     null|             240.0|  1|\n",
            "|   2|                 9|    270|     null|             270.0|  1|\n",
            "|   2|                10|    300|     null|             300.0|  1|\n",
            "|   2|                11|    330|     null|             330.0|  1|\n",
            "|   2|                12|    360|     null|             360.0|  1|\n",
            "|   3|                 0|      0|     30.0|               0.0|  9|\n",
            "|   3|                 1|      5|     30.0|              15.0|  9|\n",
            "|   3|                 2|     60|     null|              30.0|  9|\n",
            "|   3|                 3|      3|     30.0|              30.0|  9|\n",
            "|   3|                 4|     16|      6.0|              15.0|  9|\n",
            "|   3|                 5|     26|     30.0|16.666666666666668|  9|\n",
            "|   3|                 6|    180|     null|              20.0|  9|\n",
            "+----+------------------+-------+---------+------------------+---+\n",
            "only showing top 20 rows\n",
            "\n"
          ]
        }
      ],
      "source": [
        "# combine x and y to an input df\n",
        "df_input = spark.sql(\"select t1.user, t1.lifetime_indicator, t1.recency, t1.frequency, t1.frequency_cum, t2.y from df_RF t1\\\n",
        "                   join df_venmo_y t2  ON t1.user = t2.user1 \\\n",
        "                  order by 1,2\")\n",
        "df_input.createOrReplaceTempView(\"df_input\")\n",
        "df_input.show()"
      ]
    },
    {
      "cell_type": "code",
      "execution_count": null,
      "metadata": {
        "id": "8l2ewKZWXFfa"
      },
      "outputs": [],
      "source": [
        "df_input_0 = spark.sql(\"select * from df_input where lifetime_indicator=0 \")\n",
        "df_input_1 = spark.sql(\"select * from df_input where lifetime_indicator=1 \")\n",
        "df_input_2 = spark.sql(\"select * from df_input where lifetime_indicator=2 \")\n",
        "df_input_3 = spark.sql(\"select * from df_input where lifetime_indicator=3 \")\n",
        "df_input_4 = spark.sql(\"select * from df_input where lifetime_indicator=4 \")\n",
        "df_input_5 = spark.sql(\"select * from df_input where lifetime_indicator=5 \")\n",
        "df_input_6 = spark.sql(\"select * from df_input where lifetime_indicator=6 \")\n",
        "df_input_7 = spark.sql(\"select * from df_input where lifetime_indicator=7 \")\n",
        "df_input_8 = spark.sql(\"select * from df_input where lifetime_indicator=8 \")\n",
        "df_input_9 = spark.sql(\"select * from df_input where lifetime_indicator=9 \")\n",
        "df_input_10 = spark.sql(\"select * from df_input where lifetime_indicator=10 \")\n",
        "df_input_11 = spark.sql(\"select * from df_input where lifetime_indicator=11 \")\n",
        "df_input_12 = spark.sql(\"select * from df_input where lifetime_indicator=12 \")\n"
      ]
    },
    {
      "cell_type": "code",
      "execution_count": null,
      "metadata": {
        "colab": {
          "base_uri": "https://localhost:8080/"
        },
        "id": "qpep846wjoe7",
        "outputId": "9312bcea-bf04-429c-d707-61d41553bea0"
      },
      "outputs": [
        {
          "name": "stdout",
          "output_type": "stream",
          "text": [
            "11.166400439154678\n",
            "9.301101536659143\n"
          ]
        }
      ],
      "source": [
        "def lifetimeMSE(inputdata):\n",
        "    Assembler = VectorAssembler(inputCols = ['lifetime_indicator', 'frequency_cum', \n",
        "                                             'recency'], \n",
        "                                outputCol ='features')\n",
        "    output = Assembler.transform(inputdata)\n",
        "    finalData = output.select('features','y')\n",
        "    trainData, testData = finalData.randomSplit([0.8, 0.2], seed=1)\n",
        "    lrModel = LinearRegression(labelCol ='y', featuresCol='features')\n",
        "    lrEstimator = lrModel.fit(trainData)\n",
        "    testResults = lrEstimator.evaluate(testData)\n",
        "    rmse = testResults.rootMeanSquaredError\n",
        "    mse = rmse**2\n",
        "    return mse\n",
        "\n",
        "MSE_0 = lifetimeMSE(df_input_0)\n",
        "print(MSE_0)\n",
        "MSE_1 = lifetimeMSE(df_input_1)\n",
        "print(MSE_1)"
      ]
    },
    {
      "cell_type": "code",
      "execution_count": null,
      "metadata": {
        "colab": {
          "base_uri": "https://localhost:8080/"
        },
        "id": "q8DTM3binPDF",
        "outputId": "051e770f-ed63-4b94-ff1b-8e66c10340ed"
      },
      "outputs": [
        {
          "name": "stdout",
          "output_type": "stream",
          "text": [
            "8.084446478438807\n",
            "7.097901998558801\n",
            "6.602358425788969\n",
            "6.037588356110848\n",
            "5.553455041800598\n",
            "5.219120318013135\n",
            "4.975107116214238\n",
            "4.7943364210459425\n",
            "4.710037459264501\n",
            "4.713526618708615\n",
            "4.774126310349024\n"
          ]
        }
      ],
      "source": [
        "#MSE_0 = lifetimeMSE(df_input_0)\n",
        "#print(MSE_0)\n",
        "#MSE_1 = lifetimeMSE(df_input_1)\n",
        "#print(MSE_1)\n",
        "MSE_2 = lifetimeMSE(df_input_2)\n",
        "print(MSE_2)\n",
        "MSE_3 = lifetimeMSE(df_input_3)\n",
        "print(MSE_3)\n",
        "MSE_4 = lifetimeMSE(df_input_4)\n",
        "print(MSE_4)\n",
        "MSE_5 = lifetimeMSE(df_input_5)\n",
        "print(MSE_5)\n",
        "MSE_6 = lifetimeMSE(df_input_6)\n",
        "print(MSE_6)\n",
        "MSE_7 = lifetimeMSE(df_input_7)\n",
        "print(MSE_7)\n",
        "MSE_8 = lifetimeMSE(df_input_8)\n",
        "print(MSE_8)\n",
        "MSE_9 = lifetimeMSE(df_input_9)\n",
        "print(MSE_9)\n",
        "MSE_10 = lifetimeMSE(df_input_10)\n",
        "print(MSE_10)\n",
        "MSE_11 = lifetimeMSE(df_input_11)\n",
        "print(MSE_11)\n",
        "MSE_12 = lifetimeMSE(df_input_12)\n",
        "print(MSE_12)\n"
      ]
    },
    {
      "cell_type": "code",
      "execution_count": null,
      "metadata": {
        "colab": {
          "base_uri": "https://localhost:8080/",
          "height": 279
        },
        "id": "nbdwBB6KEcat",
        "outputId": "0c740a84-86f4-4d41-d0b1-d13be43e9c5d"
      },
      "outputs": [
        {
          "data": {
            "image/png": "[encoded data removed]",
            "text/plain": [
              "<Figure size 432x288 with 1 Axes>"
            ]
          },
          "metadata": {
            "needs_background": "light"
          },
          "output_type": "display_data"
        }
      ],
      "source": [
        "MSE = []\n",
        "MSE.extend([MSE_0,MSE_1,MSE_2,MSE_3,MSE_4,MSE_5,MSE_6,MSE_7,MSE_8,MSE_9,MSE_10,MSE_11,MSE_12])\n",
        "lifetime = [0,1,2,3,4,5,6,7,8,9,10,11,12]\n",
        "\n",
        "plt.plot(lifetime, MSE, marker='s')\n",
        "plt.xlabel('Lifetime')\n",
        "plt.ylabel('MSE')\n",
        "plt.show()"
      ]
    },
    {
      "cell_type": "markdown",
      "metadata": {
        "id": "8AmhNrM-7vtr"
      },
      "source": [
        "**Task_10: For each user’s lifetime point, regress recency, frequency AND her spending behavior\n",
        "profile on Y. Plot the MSE for each lifetime point like above.**"
      ]
    },
    {
      "cell_type": "code",
      "execution_count": null,
      "metadata": {
        "id": "RAg3zk567-MM"
      },
      "outputs": [],
      "source": [
        "spending_profile_lft = spark.sql(\"SELECT user1, month, \\\n",
        "                                  CASE WHEN classification = 'Utility' THEN 1 \\ \n",
        "                                  ELSE 0 \\\n",
        "                                  END AS utility,\\\n",
        "                                  CASE\\\n",
        "                                  WHEN classification = 'Food' THEN 1 \\ \n",
        "                                  ELSE 0 \\\n",
        "                                  END AS food,\\\n",
        "                                  CASE\\\n",
        "                                  WHEN classification = 'Activity' THEN 1 \\ \n",
        "                                  ELSE 0 \\\n",
        "                                  END AS activity,\\\n",
        "                                  CASE\\\n",
        "                                  WHEN classification = 'People' THEN 1 \\ \n",
        "                                  ELSE 0 \\\n",
        "                                  END AS people ,\\\n",
        "                                  CASE\\\n",
        "                                  WHEN classification = 'Travel' THEN 1 \\ \n",
        "                                  ELSE 0 \\\n",
        "                                  END AS travel,\\\n",
        "                                  CASE\\\n",
        "                                  WHEN classification = 'Illegal/Sarcasm' THEN 1 \\ \n",
        "                                  ELSE 0 \\\n",
        "                                  END AS illegal,\\\n",
        "                                  CASE\\\n",
        "                                  WHEN classification = 'Unknown Category' THEN 1 \\ \n",
        "                                  ELSE 0 \\\n",
        "                                  END AS other\\\n",
        "                                  FROM spending_behavior\\\n",
        "                                  ORDER BY 1,2\")\n",
        "spending_profile_lft.createOrReplaceTempView('spending_profile_lft')\n",
        "temp = spark.sql(\"SELECT user1, month, utility, food, activity, people, travel, illegal, other\\\n",
        "                  UNION select User, time_lst, 0, 0, 0, 0, 0,0,0\")\n",
        "temp.createOrReplaceTempView('temp')\n",
        "spending_profile_full = spark.sql(\"SELECT user1, month, SUM(utility) AS utility, SUM(food) AS food, SUM(activity) AS activity,\\\n",
        "                                   SUM(people) AS people, SUM(travel) AS travel, SUM(illegal) AS illegal, SUM(other) AS other\\\n",
        "                                   GROUP BY 1,2\\\n",
        "                                   ORDER BY 1,2\")"
      ]
    },
    {
      "cell_type": "code",
      "execution_count": null,
      "metadata": {
        "id": "CNPS1M35GtMy"
      },
      "outputs": [],
      "source": [
        "spending_rf = spark.sql(\"SELECT t1.user1, t1.month, t1.utility, t1.food, t1.people, t1.travel, t1.activity, t1.illegal, t1.other, \\\n",
        "                          t2.frequency_cum, t2.recency, t2.y\\\n",
        "                          FROM spending_profile_full t1\\\n",
        "                          JOIN df_input t2 ON t1.user1 = t2.user AND t1.month = t2.lifetime_indicator\\\n",
        "                          ORDER BY 1,2\")\n",
        "spending_rf.createOrReplaceTempView('spending_rf')"
      ]
    },
    {
      "cell_type": "code",
      "execution_count": null,
      "metadata": {
        "id": "lw-gGRptHckU"
      },
      "outputs": [],
      "source": [
        "df_input_rf_spd_0 = spark.sql(\"select * from spending_rf where month=0 \")\n",
        "df_input_rf_spd_1 = spark.sql(\"select * from spending_rf where month=1 \")\n",
        "df_input_rf_spd_2 = spark.sql(\"select * from spending_rf where month=2 \")\n",
        "df_input_rf_spd_3 = spark.sql(\"select * from spending_rf where month=3 \")\n",
        "df_input_rf_spd_4 = spark.sql(\"select * from spending_rf where month=4 \")\n",
        "df_input_rf_spd_5 = spark.sql(\"select * from spending_rf where month=5 \")\n",
        "df_input_rf_spd_6 = spark.sql(\"select * from spending_rf where month=6 \")\n",
        "df_input_rf_spd_7 = spark.sql(\"select * from spending_rf where month=7 \")\n",
        "df_input_rf_spd_8 = spark.sql(\"select * from spending_rf where month=8 \")\n",
        "df_input_rf_spd_9 = spark.sql(\"select * from spending_rf where month=9 \")\n",
        "df_input_rf_spd_10 = spark.sql(\"select * from spending_rf where month=10 \")\n",
        "df_input_rf_spd_11 = spark.sql(\"select * from spending_rf where month=11 \")\n",
        "df_input_rf_spd_12 = spark.sql(\"select * from spending_rf where month=12 \")\n"
      ]
    },
    {
      "cell_type": "code",
      "execution_count": null,
      "metadata": {
        "id": "HWs36MIXH1Md"
      },
      "outputs": [],
      "source": [
        "def spendingRFMSE(inputdata):\n",
        "    Assembler = VectorAssembler(inputCols = ['month', 'recency', \n",
        "                                'frequency_cum', 'utility', \"food\",'people','travel','activity','illegal','other'], \n",
        "                                outputCol ='features')\n",
        "    output = Assembler.transform(inputdata)\n",
        "    finalData = output.select('features','y')\n",
        "    trainData, testData = finalData.randomSplit([0.8, 0.2], seed=1)\n",
        "    lrModel = LinearRegression(labelCol ='y', featuresCol='features')\n",
        "    lrEstimator = lrModel.fit(trainData)\n",
        "    testResults = lrEstimator.evaluate(testData)\n",
        "    rmse = testResults.rootMeanSquaredError\n",
        "    mse = rmse**2\n",
        "    return mse"
      ]
    },
    {
      "cell_type": "code",
      "execution_count": null,
      "metadata": {
        "id": "83b8o-cQIPFb"
      },
      "outputs": [],
      "source": [
        "MSE_rf_spd_0 = spendingRFMSE(df_input_rf_spd_0)\n",
        "MSE_rf_spd_1 = spendingRFMSE(df_input_rf_spd_1)\n",
        "MSE_rf_spd_2 = spendingRFMSE(df_input_rf_spd_2)\n",
        "MSE_rf_spd_3 = spendingRFMSE(df_input_rf_spd_3)\n",
        "MSE_rf_spd_4 = spendingRFMSE(df_input_rf_spd_4)\n",
        "MSE_rf_spd_5 = spendingRFMSE(df_input_rf_spd_5)\n",
        "MSE_rf_spd_6 = spendingRFMSE(df_input_rf_spd_6)\n",
        "MSE_rf_spd_7 = spendingRFMSE(df_input_rf_spd_7)\n",
        "MSE_rf_spd_8 = spendingRFMSE(df_input_rf_spd_8)\n",
        "MSE_rf_spd_9 = spendingRFMSE(df_input_rf_spd_9)\n",
        "MSE_rf_spd_10 = spendingRFMSE(df_input_rf_spd_10)\n",
        "MSE_rf_spd_11 = spendingRFMSE(df_input_rf_spd_11)\n",
        "MSE_rf_spd_12 = spendingRFMSE(df_input_rf_spd_12)"
      ]
    },
    {
      "cell_type": "code",
      "execution_count": null,
      "metadata": {
        "id": "qiSMj0C1JeiQ"
      },
      "outputs": [],
      "source": [
        "MSE_rf_spd = []\n",
        "MSE_rf_spd.extend([MSE_rf_spd_0,MSE_rf_spd_1,MSE_rf_spd_2,MSE_rf_spd_3,MSE_rf_spd_4,MSE_rf_spd_5,MSE_rf_spd_6,MSE_rf_spd_7,MSE_rf_spd_8,MSE_rf_spd_9,MSE_rf_spd_10,MSE_rf_spd_11,MSE_rf_spd_12])\n",
        "lifetime = [0,1,2,3,4,5,6,7,8,9,10,11,12]\n",
        "\n",
        "plt.plot(lifetime, MSE_rf_spd, marker='s')\n",
        "plt.xlabel('Lifetime')\n",
        "plt.ylabel('MSE')\n",
        "plt.show()"
      ]
    },
    {
      "cell_type": "markdown",
      "metadata": {
        "id": "tJUTPwSc-pik"
      },
      "source": [
        "**Task_11: For each user’s lifetime point, regress her social network metrics on Y. Plot the MSE for\n",
        "each lifetime point like above.**"
      ]
    },
    {
      "cell_type": "code",
      "execution_count": null,
      "metadata": {
        "id": "JzfT8Vr6-y0u"
      },
      "outputs": [],
      "source": [
        "df_input_sn = spark.sql('SELECT t1.user, t1.lifetime_indicator, t1.friend_count , t1.cum_friend_count,t1.fof_count, t1.cum_fof_count, t1.cluster_coef,\\\n",
        "                          t2.pagerank, t3.y\\\n",
        "                          FROM social_network_all t1 JOIN df_pagerank t2 ON t1.user=t2.user\\\n",
        "                          JOIN df_venmo_y t3 ON t1.user = t3.user\\\n",
        "                          ORDER BY 1,2')\n",
        "df_input_sn.show()\n",
        "df_input_sn.createOrReplaceTempView('df_input_sn')"
      ]
    },
    {
      "cell_type": "code",
      "execution_count": null,
      "metadata": {
        "id": "5i-F56r6-10i"
      },
      "outputs": [],
      "source": [
        "df_input_sn_0 = spark.sql(\"select * from df_input_sn where lifetime_indicator=0 \")\n",
        "df_input_sn_1 = spark.sql(\"select * from df_input_sn where lifetime_indicator=1 \")\n",
        "df_input_sn_2 = spark.sql(\"select * from df_input_sn where lifetime_indicator=2 \")\n",
        "df_input_sn_3 = spark.sql(\"select * from df_input_sn where lifetime_indicator=3 \")\n",
        "df_input_sn_4 = spark.sql(\"select * from df_input_sn where lifetime_indicator=4 \")\n",
        "df_input_sn_5 = spark.sql(\"select * from df_input_sn where lifetime_indicator=5 \")\n",
        "df_input_sn_6 = spark.sql(\"select * from df_input_sn where lifetime_indicator=6 \")\n",
        "df_input_sn_7 = spark.sql(\"select * from df_input_sn where lifetime_indicator=7 \")\n",
        "df_input_sn_8 = spark.sql(\"select * from df_input_sn where lifetime_indicator=8 \")\n",
        "df_input_sn_9 = spark.sql(\"select * from df_input_sn where lifetime_indicator=9 \")\n",
        "df_input_sn_10 = spark.sql(\"select * from df_input_sn where lifetime_indicator=10 \")\n",
        "df_input_sn_11 = spark.sql(\"select * from df_input_sn where lifetime_indicator=11 \")\n",
        "df_input_sn_12 = spark.sql(\"select * from df_input_sn where lifetime_indicator=12 \")"
      ]
    },
    {
      "cell_type": "code",
      "execution_count": null,
      "metadata": {
        "id": "TC6SISNZ-4yk"
      },
      "outputs": [],
      "source": [
        "def socialnetworkMSE(inputdata):\n",
        "    Assembler = VectorAssembler(inputCols = ['lifetime_indicator', 'friend_count', \n",
        "                                'fof_count', 'cluster_coef', \"pagerank\"], \n",
        "                                outputCol ='features')\n",
        "    output = Assembler.transform(inputdata)\n",
        "    finalData = output.select('features','y')\n",
        "    trainData, testData = finalData.randomSplit([0.8, 0.2], seed=1)\n",
        "    lrModel = LinearRegression(labelCol ='y', featuresCol='features')\n",
        "    lrEstimator = lrModel.fit(trainData)\n",
        "    testResults = lrEstimator.evaluate(testData)\n",
        "    coef = lrModel.coefficients\n",
        "    rmse = testResults.rootMeanSquaredError\n",
        "    mse = rmse**2\n",
        "    return mse"
      ]
    },
    {
      "cell_type": "code",
      "execution_count": null,
      "metadata": {
        "id": "m85Jg0le-8Iw"
      },
      "outputs": [],
      "source": [
        "MSE_sn_0 = socialnetworkMSE(df_input_sn_0)\n",
        "MSE_sn_1 = socialnetworkMSE(df_input_sn_1)\n",
        "MSE_sn_2 = socialnetworkMSE(df_input_sn_2)\n",
        "MSE_sn_3 = socialnetworkMSE(df_input_sn_3)\n",
        "MSE_sn_4 = socialnetworkMSE(df_input_sn_4)\n",
        "MSE_sn_5 = socialnetworkMSE(df_input_sn_5)\n",
        "MSE_sn_6 = socialnetworkMSE(df_input_sn_6)\n",
        "MSE_sn_7 = socialnetworkMSE(df_input_sn_7)\n",
        "MSE_sn_8 = socialnetworkMSE(df_input_sn_8)\n",
        "MSE_sn_9 = socialnetworkMSE(df_input_sn_9)\n",
        "MSE_sn_10 = socialnetworkMSE(df_input_sn_10)\n",
        "MSE_sn_11 = socialnetworkMSE(df_input_sn_11)\n",
        "MSE_sn_12 = socialnetworkMSE(df_input_sn_12)"
      ]
    },
    {
      "cell_type": "code",
      "execution_count": null,
      "metadata": {
        "id": "bayq4_VB--C3"
      },
      "outputs": [],
      "source": [
        "MSE_sn = []\n",
        "MSE_sn.extend([MSE_sn_0,MSE_sn_1,MSE_sn_2,MSE_sn_3,MSE_sn_4,MSE_sn_5,MSE_sn_6,MSE_sn_7,MSE_sn_8,MSE_sn_9,MSE_sn_10,MSE_sn_11,MSE_sn_12])\n",
        "lifetime = [0,1,2,3,4,5,6,7,8,9,10,11,12]\n",
        "\n",
        "plt.plot(lifetime, MSE_sn, marker='s')\n",
        "plt.xlabel('Lifetime')\n",
        "plt.ylabel('MSE')\n",
        "plt.show()"
      ]
    },
    {
      "cell_type": "markdown",
      "metadata": {
        "id": "kazIRNs2_RFG"
      },
      "source": [
        "**Task_12: For each user’s lifetime point, regress her social network metrics and the spending\n",
        "behaviour of her social network on Y. Plot the MSE for each lifetime point like above.**"
      ]
    },
    {
      "cell_type": "code",
      "execution_count": null,
      "metadata": {
        "id": "GxisTlLl_bjz"
      },
      "outputs": [],
      "source": [
        "# Join SN matrics and spending behavior \n",
        "input_sn_spd = spark.sql('SELECT t1.user, t1.lifetime_indicator, t1.friend_count, t1.fof_count, t1.cluster_coef, t1.pagerank, t1.y,\\\n",
        "                          t2.travel, t2.people, t2.food, t2.activity, t2.utility, t2.illegal, t2.other\\\n",
        "                          FROM df_input_sn t1, spending_profile_full t2 ON t1.user = t2.user1 AND t2.lifetime_indicator = t2.month\\\n",
        "                          ORDER BY 1,2')\n",
        "input_sn_spd.createOrReplaceTempView('input_sn_spd')"
      ]
    },
    {
      "cell_type": "code",
      "execution_count": null,
      "metadata": {
        "id": "ciXsEEezLUv0"
      },
      "outputs": [],
      "source": [
        "df_input_sn_spd_0 = spark.sql(\"select * from input_sn_spd where lifetime_indicator=0 \")\n",
        "df_input_sn_spd_1 = spark.sql(\"select * from input_sn_spd where lifetime_indicator=1 \")\n",
        "df_input_sn_spd_2 = spark.sql(\"select * from input_sn_spd where lifetime_indicator=2 \")\n",
        "df_input_sn_spd_3 = spark.sql(\"select * from input_sn_spd where lifetime_indicator=3 \")\n",
        "df_input_sn_spd_4 = spark.sql(\"select * from input_sn_spd where lifetime_indicator=4 \")\n",
        "df_input_sn_spd_5 = spark.sql(\"select * from input_sn_spd where lifetime_indicator=5 \")\n",
        "df_input_sn_spd_6 = spark.sql(\"select * from input_sn_spd where lifetime_indicator=6 \")\n",
        "df_input_sn_spd_7 = spark.sql(\"select * from input_sn_spd where lifetime_indicator=7 \")\n",
        "df_input_sn_spd_8 = spark.sql(\"select * from input_sn_spd where lifetime_indicator=8 \")\n",
        "df_input_sn_spd_9 = spark.sql(\"select * from input_sn_spd where lifetime_indicator=9 \")\n",
        "df_input_sn_spd_10 = spark.sql(\"select * from input_sn_spd where lifetime_indicator=10 \")\n",
        "df_input_sn_spd_11 = spark.sql(\"select * from input_sn_spd where lifetime_indicator=11 \")\n",
        "df_input_sn_spd_12 = spark.sql(\"select * from input_sn_spd where lifetime_indicator=12 \")\n",
        "\n",
        "\n",
        "\n"
      ]
    },
    {
      "cell_type": "code",
      "execution_count": null,
      "metadata": {
        "id": "DPe9ZwAjK7E9"
      },
      "outputs": [],
      "source": [
        "def SNspendingMSE(inputdata):\n",
        "    Assembler = VectorAssembler(inputCols = ['lifetime_indicator', 'friend_count', \n",
        "                                'fof_count', 'cluster_coef', \"pagerank\",'activity','utility','people','illegal','other','travel','food'], \n",
        "                                outputCol ='features')\n",
        "    output = Assembler.transform(inputdata)\n",
        "    finalData = output.select('features','y')\n",
        "    trainData, testData = finalData.randomSplit([0.8, 0.2], seed=1)\n",
        "    lrModel = LinearRegression(labelCol ='y', featuresCol='features')\n",
        "    lrEstimator = lrModel.fit(trainData)\n",
        "    testResults = lrEstimator.evaluate(testData)\n",
        "    coef = lrModel.coefficients\n",
        "    rmse = testResults.rootMeanSquaredError\n",
        "    mse = rmse**2\n",
        "    return mse"
      ]
    },
    {
      "cell_type": "code",
      "execution_count": null,
      "metadata": {
        "id": "vvBaQWR4K_QN"
      },
      "outputs": [],
      "source": [
        "MSE_sn_spd_0 = socialnetworkMSE(df_input_sn_spd_0)\n",
        "MSE_sn_spd_1 = socialnetworkMSE(df_input_sn_spd_1)\n",
        "MSE_sn_spd_2 = socialnetworkMSE(df_input_sn_spd_2)\n",
        "MSE_sn_spd_3 = socialnetworkMSE(df_input_sn_spd_3)\n",
        "MSE_sn_spd_4 = socialnetworkMSE(df_input_sn_spd_4)\n",
        "MSE_sn_spd_5 = socialnetworkMSE(df_input_sn_spd_5)\n",
        "MSE_sn_spd_6 = socialnetworkMSE(df_input_sn_spd_6)\n",
        "MSE_sn_spd_7 = socialnetworkMSE(df_input_sn_spd_7)\n",
        "MSE_sn_spd_8 = socialnetworkMSE(df_input_sn_spd_8)\n",
        "MSE_sn_spd_9 = socialnetworkMSE(df_input_sn_spd_9)\n",
        "MSE_sn_spd_10 = socialnetworkMSE(df_input_sn_spd_10)\n",
        "MSE_sn_spd_11 = socialnetworkMSE(df_input_sn_spd_11)\n",
        "MSE_sn_spd_12 = socialnetworkMSE(df_input_sn_spd_12)"
      ]
    },
    {
      "cell_type": "code",
      "execution_count": null,
      "metadata": {
        "id": "n284cXLpL-RO"
      },
      "outputs": [],
      "source": [
        "MSE_sn_spd = []\n",
        "MSE_sn_spd.extend([MSE_sn_spd_0,MSE_sn_spd_1,MSE_sn_spd_2,MSE_sn_spd_3,MSE_sn_spd_4,MSE_sn_spd_5,MSE_sn_spd_6,MSE_sn_spd_7,MSE_sn_spd_8,MSE_sn_spd_9,MSE_sn_spd_10,MSE_sn_spd_11,MSE_sn_spd_12])\n",
        "lifetime = [0,1,2,3,4,5,6,7,8,9,10,11,12]\n",
        "\n",
        "plt.plot(lifetime, MSE_sn_spd, marker='s')\n",
        "plt.xlabel('Lifetime')\n",
        "plt.ylabel('MSE')\n",
        "plt.show()"
      ]
    }
  ],
  "metadata": {
    "colab": {
      "collapsed_sections": [],
      "name": "BAX423 - HW4 - Predictive Analytics.ipynb",
      "provenance": []
    },
    "kernelspec": {
      "display_name": "Python 3",
      "name": "python3"
    },
    "language_info": {
      "name": "python"
    }
  },
  "nbformat": 4,
  "nbformat_minor": 0
}
