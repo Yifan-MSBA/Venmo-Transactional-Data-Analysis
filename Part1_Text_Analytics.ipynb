{
  "cells": [
    {
      "cell_type": "markdown",
      "metadata": {},
      "source": [
        "## **Setup the Environment**"
      ]
    },
    {
      "cell_type": "code",
      "execution_count": 1,
      "metadata": {
        "colab": {
          "base_uri": "https://localhost:8080/"
        },
        "id": "r_TWgoNG41oF",
        "outputId": "9959881d-a31b-4307-cbc8-be5ba0dcff3f"
      },
      "outputs": [
        {
          "name": "stdout",
          "output_type": "stream",
          "text": [
            "Requirement already satisfied: pyarrow in /usr/local/lib/python3.7/dist-packages (6.0.1)\n",
            "Requirement already satisfied: numpy>=1.16.6 in /usr/local/lib/python3.7/dist-packages (from pyarrow) (1.21.6)\n",
            "Collecting python-snappy\n",
            "  Downloading python_snappy-0.6.1-cp37-cp37m-manylinux_2_12_x86_64.manylinux2010_x86_64.whl (56 kB)\n",
            "\u001b[K     |████████████████████████████████| 56 kB 2.3 MB/s \n",
            "\u001b[?25hInstalling collected packages: python-snappy\n",
            "Successfully installed python-snappy-0.6.1\n",
            "Collecting emojis\n",
            "  Downloading emojis-0.6.0-py3-none-any.whl (27 kB)\n",
            "Installing collected packages: emojis\n",
            "Successfully installed emojis-0.6.0\n",
            "Requirement already satisfied: nltk in /usr/local/lib/python3.7/dist-packages (3.2.5)\n",
            "Requirement already satisfied: six in /usr/local/lib/python3.7/dist-packages (from nltk) (1.15.0)\n",
            "Collecting demoji\n",
            "  Downloading demoji-1.1.0-py3-none-any.whl (42 kB)\n",
            "\u001b[K     |████████████████████████████████| 42 kB 749 kB/s \n",
            "\u001b[?25hInstalling collected packages: demoji\n",
            "Successfully installed demoji-1.1.0\n",
            "Collecting emoji\n",
            "  Downloading emoji-1.7.0.tar.gz (175 kB)\n",
            "\u001b[K     |████████████████████████████████| 175 kB 5.0 MB/s \n",
            "\u001b[?25hBuilding wheels for collected packages: emoji\n",
            "  Building wheel for emoji (setup.py) ... \u001b[?25l\u001b[?25hdone\n",
            "  Created wheel for emoji: filename=emoji-1.7.0-py3-none-any.whl size=171046 sha256=f448d49d2c9f68f149b1532f880c217edc66637bd2f3c239f5de1cdbd9288fc6\n",
            "  Stored in directory: /root/.cache/pip/wheels/8a/4e/b6/57b01db010d17ef6ea9b40300af725ef3e210cb1acfb7ac8b6\n",
            "Successfully built emoji\n",
            "Installing collected packages: emoji\n",
            "Successfully installed emoji-1.7.0\n",
            "Collecting fastparquet\n",
            "  Downloading fastparquet-0.8.1-cp37-cp37m-manylinux_2_17_x86_64.manylinux2014_x86_64.whl (1.5 MB)\n",
            "\u001b[K     |████████████████████████████████| 1.5 MB 5.0 MB/s \n",
            "\u001b[?25hRequirement already satisfied: numpy>=1.18 in /usr/local/lib/python3.7/dist-packages (from fastparquet) (1.21.6)\n",
            "Collecting fsspec\n",
            "  Downloading fsspec-2022.3.0-py3-none-any.whl (136 kB)\n",
            "\u001b[K     |████████████████████████████████| 136 kB 58.8 MB/s \n",
            "\u001b[?25hRequirement already satisfied: pandas>=1.1.0 in /usr/local/lib/python3.7/dist-packages (from fastparquet) (1.3.5)\n",
            "Collecting cramjam>=2.3.0\n",
            "  Downloading cramjam-2.5.0-cp37-cp37m-manylinux_2_5_x86_64.manylinux1_x86_64.whl (1.6 MB)\n",
            "\u001b[K     |████████████████████████████████| 1.6 MB 32.7 MB/s \n",
            "\u001b[?25hRequirement already satisfied: python-dateutil>=2.7.3 in /usr/local/lib/python3.7/dist-packages (from pandas>=1.1.0->fastparquet) (2.8.2)\n",
            "Requirement already satisfied: pytz>=2017.3 in /usr/local/lib/python3.7/dist-packages (from pandas>=1.1.0->fastparquet) (2022.1)\n",
            "Requirement already satisfied: six>=1.5 in /usr/local/lib/python3.7/dist-packages (from python-dateutil>=2.7.3->pandas>=1.1.0->fastparquet) (1.15.0)\n",
            "Installing collected packages: fsspec, cramjam, fastparquet\n",
            "Successfully installed cramjam-2.5.0 fastparquet-0.8.1 fsspec-2022.3.0\n",
            "Collecting pyspark\n",
            "  Downloading pyspark-3.2.1.tar.gz (281.4 MB)\n",
            "\u001b[K     |████████████████████████████████| 281.4 MB 36 kB/s \n",
            "\u001b[?25hCollecting py4j==0.10.9.3\n",
            "  Downloading py4j-0.10.9.3-py2.py3-none-any.whl (198 kB)\n",
            "\u001b[K     |████████████████████████████████| 198 kB 49.7 MB/s \n",
            "\u001b[?25hBuilding wheels for collected packages: pyspark\n",
            "  Building wheel for pyspark (setup.py) ... \u001b[?25l\u001b[?25hdone\n",
            "  Created wheel for pyspark: filename=pyspark-3.2.1-py2.py3-none-any.whl size=281853642 sha256=e538c0fb4c71161774ba6101082f4bf5465a081c1d09bb3b7472e026ec15fa87\n",
            "  Stored in directory: /root/.cache/pip/wheels/9f/f5/07/7cd8017084dce4e93e84e92efd1e1d5334db05f2e83bcef74f\n",
            "Successfully built pyspark\n",
            "Installing collected packages: py4j, pyspark\n",
            "Successfully installed py4j-0.10.9.3 pyspark-3.2.1\n"
          ]
        }
      ],
      "source": [
        "# Run below commands to install libraries\n",
        "!apt-get install openjdk-8-jdk-headless -qq > /dev/null\n",
        "!wget -q https://archive.apache.org/dist/spark/spark-3.1.2/spark-3.1.2-bin-hadoop3.2.tgz\n",
        "!tar xf spark-3.1.2-bin-hadoop3.2.tgz\n",
        "!pip install -q findspark\n",
        "!pip install pyarrow\n",
        "!pip install python-snappy\n",
        "!pip install emojis\n",
        "!pip install nltk\n",
        "!pip install demoji\n",
        "!pip install emoji\n",
        "!pip install fastparquet\n",
        "!pip install pyspark"
      ]
    },
    {
      "cell_type": "code",
      "execution_count": 2,
      "metadata": {
        "id": "AmfDsg1-7Ob7"
      },
      "outputs": [],
      "source": [
        "import os\n",
        "os.environ[\"JAVA_HOME\"] = \"/usr/lib/jvm/java-8-openjdk-amd64\"\n",
        "os.environ[\"SPARK_HOME\"] = \"/content/spark-3.1.2-bin-hadoop3.2\""
      ]
    },
    {
      "cell_type": "code",
      "execution_count": 3,
      "metadata": {
        "colab": {
          "base_uri": "https://localhost:8080/"
        },
        "id": "z0Su7bEF7PnX",
        "outputId": "bdab98ff-3ca7-4ef3-a961-036d8e5c2d23"
      },
      "outputs": [
        {
          "name": "stdout",
          "output_type": "stream",
          "text": [
            "[nltk_data] Downloading package stopwords to /root/nltk_data...\n",
            "[nltk_data]   Unzipping corpora/stopwords.zip.\n",
            "[nltk_data] Downloading package wordnet to /root/nltk_data...\n",
            "[nltk_data]   Unzipping corpora/wordnet.zip.\n",
            "Welcome to\n",
            "      ____              __\n",
            "     / __/__  ___ _____/ /__\n",
            "    _\\ \\/ _ \\/ _ `/ __/  '_/\n",
            "   /__ / .__/\\_,_/_/ /_/\\_\\   version 3.1.2\n",
            "      /_/\n",
            "\n",
            "Using Python version 3.7.13 (default, Apr 24 2022 01:04:09)\n",
            "Spark context Web UI available at http://00b5a4c286fc:4040\n",
            "Spark context available as 'sc' (master = local[*], app id = local-1652501898241).\n",
            "SparkSession available as 'spark'.\n",
            "[nltk_data] Downloading package punkt to /root/nltk_data...\n",
            "[nltk_data]   Unzipping tokenizers/punkt.zip.\n"
          ]
        },
        {
          "data": {
            "text/plain": [
              "True"
            ]
          },
          "execution_count": 3,
          "metadata": {},
          "output_type": "execute_result"
        }
      ],
      "source": [
        "# Import required packages\n",
        "import findspark\n",
        "findspark.init()\n",
        "import emoji\n",
        "import emojis\n",
        "import string\n",
        "import nltk\n",
        "from nltk.corpus import stopwords\n",
        "from nltk.tokenize import word_tokenize\n",
        "nltk.download('stopwords')\n",
        "nltk.download('wordnet')\n",
        "from nltk.stem import WordNetLemmatizer, PorterStemmer\n",
        "from pyspark.sql import SparkSession\n",
        "from pyspark import SparkConf, SparkContext\n",
        "from datetime import datetime, date, timedelta\n",
        "from dateutil import relativedelta\n",
        "from pyspark.sql import SQLContext, Row\n",
        "from pyspark.sql.types import *\n",
        "from pyspark.sql.functions import *\n",
        "from pyspark.sql import DataFrame\n",
        "from pyspark.sql.functions import *\n",
        "from pyspark.sql import functions as F  \n",
        "from pyspark.sql.functions import collect_list, collect_set, concat, first, array_distinct, col, size, expr\n",
        "from pyspark.sql.functions import lag, lead\n",
        "from pyspark.sql import DataFrame\n",
        "from pyspark.sql.functions import array, col, explode, lit, struct\n",
        "from typing import Iterable \n",
        "import random\n",
        "import pandas as pd\n",
        "from pyspark.sql.window import Window\n",
        "import pyarrow.parquet as pq\n",
        "import pyarrow\n",
        "from collections import Counter\n",
        "from typing import Iterable\n",
        "import matplotlib.pyplot as plt\n",
        "import seaborn as sns\n",
        "from fastparquet import ParquetFile\n",
        "import snappy\n",
        "from pyspark.shell import spark\n",
        "from nltk.stem import PorterStemmer\n",
        "nltk.download('punkt')"
      ]
    },
    {
      "cell_type": "code",
      "execution_count": 4,
      "metadata": {
        "colab": {
          "base_uri": "https://localhost:8080/"
        },
        "id": "h2JlG8Ki7n_c",
        "outputId": "946a9370-7ca7-490c-f7dd-c6e021d04b8b"
      },
      "outputs": [
        {
          "name": "stdout",
          "output_type": "stream",
          "text": [
            "+-------+-------+----------------+-------------------+------------+-----------+--------------------+\n",
            "|  user1|  user2|transaction_type|           datetime| description|is_business|            story_id|\n",
            "+-------+-------+----------------+-------------------+------------+-----------+--------------------+\n",
            "|1218774|1528945|         payment|2015-11-27 10:48:19|        Uber|      false|5657c473cd03c9af2...|\n",
            "|5109483|4782303|         payment|2015-06-17 11:37:04|      Costco|      false|5580f9702b64f70ab...|\n",
            "|4322148|3392963|         payment|2015-06-19 07:05:31|Sweaty balls|      false|55835ccb1a624b14a...|\n",
            "| 469894|1333620|          charge|2016-06-03 23:34:13|          🎥|      false|5751b185cd03c9af2...|\n",
            "|2960727|3442373|         payment|2016-05-29 23:23:42|           ⚡|      false|574b178ecd03c9af2...|\n",
            "+-------+-------+----------------+-------------------+------------+-----------+--------------------+\n",
            "only showing top 5 rows\n",
            "\n"
          ]
        }
      ],
      "source": [
        "from fastparquet import ParquetFile\n",
        "import snappy\n",
        "\n",
        "venmo_data = spark\\\n",
        "  .read\\\n",
        "  .option(\"inferSchema\", \"true\")\\\n",
        "  .option(\"header\", \"true\")\\\n",
        "  .parquet(\"/content/VenmoSample.snappy.parquet\")\n",
        "\n",
        "venmo_data.show(5)"
      ]
    },
    {
      "cell_type": "markdown",
      "metadata": {
        "id": "XekPD4hytVV3"
      },
      "source": [
        "## **Text Analytics**"
      ]
    },
    {
      "cell_type": "markdown",
      "metadata": {
        "id": "TXayLA96tcM_"
      },
      "source": [
        "**Task_1: Use the text dictionary and the emoji dictionary to classify Venmo’s transactions in the sample dataset.**"
      ]
    },
    {
      "cell_type": "code",
      "execution_count": 5,
      "metadata": {
        "colab": {
          "base_uri": "https://localhost:8080/"
        },
        "id": "G6Na1CseDQGj",
        "outputId": "6e1d599f-e680-4aaa-9bcd-9e94bdb3459b"
      },
      "outputs": [
        {
          "name": "stdout",
          "output_type": "stream",
          "text": [
            "+----------+---------+---------+--------+------+--------------+-----------+-----+---------------+\n",
            "|    People|     Food|    Event|Activity|Travel|Transportation|    Utility| Cash|Illegal/Sarcasm|\n",
            "+----------+---------+---------+--------+------+--------------+-----------+-----+---------------+\n",
            "|    friend|     food| birthday|    ball| beach|          lyft|       bill| atm |      addiction|\n",
            "|friendship|      bbq|christmas|    boat| place|          uber|      cable|bank |           drug|\n",
            "|      baby|     bean|    happy|     bar|    la|           cab|        fee|cash |          wangs|\n",
            "|       boy|    latte|     bday|    book| world|           bus|   electric|money|           weed|\n",
            "|      girl|breakfast|  wedding|    club| hotel|           car|electricity| buck|           anal|\n",
            "+----------+---------+---------+--------+------+--------------+-----------+-----+---------------+\n",
            "only showing top 5 rows\n",
            "\n"
          ]
        }
      ],
      "source": [
        "venmo_word_dict = spark\\\n",
        "  .read\\\n",
        "  .option(\"inferSchema\", \"true\")\\\n",
        "  .option(\"header\", \"true\")\\\n",
        "  .csv(\"/content/Venmo Word Classification Dictonary BAX-423 - Word_Dict.csv\")\n",
        "\n",
        "venmo_word_dict.show(5)"
      ]
    },
    {
      "cell_type": "code",
      "execution_count": 6,
      "metadata": {
        "colab": {
          "base_uri": "https://localhost:8080/"
        },
        "id": "h4zZL0bKDXDv",
        "outputId": "a756c4e2-17b9-4442-dd08-ff109e4e1752"
      },
      "outputs": [
        {
          "name": "stdout",
          "output_type": "stream",
          "text": [
            "+-----+------+----+--------+--------------+------+-------+\n",
            "|Event|Travel|Food|Activity|Transportation|People|Utility|\n",
            "+-----+------+----+--------+--------------+------+-------+\n",
            "| 🇦🇺|    🏔|  🍇|      👾|            🚄|    😀|      ⚡|\n",
            "| 🇫🇷|     ⛰|  🍈|      🕴|            🚅|    😃|     💡|\n",
            "|   🎂|    🌋|  🍉|      🎪|            🚆|    😄|     🔌|\n",
            "|   🛍|    🗻|  🍊|      🎭|            🚇|    😁|     📺|\n",
            "| 🇨🇦|    🏕|  🍋|      🎨|            🚈|    😆|     🔌|\n",
            "+-----+------+----+--------+--------------+------+-------+\n",
            "only showing top 5 rows\n",
            "\n"
          ]
        }
      ],
      "source": [
        "venmo_emoji_dict = spark\\\n",
        "  .read\\\n",
        "  .option(\"inferSchema\", \"true\")\\\n",
        "  .option(\"header\", \"true\")\\\n",
        "  .csv(\"/content/Venmo_Emoji_Classification_Dictionary.csv\")\n",
        "\n",
        "venmo_emoji_dict.show(5)"
      ]
    },
    {
      "cell_type": "code",
      "execution_count": 7,
      "metadata": {
        "id": "r68jlJ_AEPMn"
      },
      "outputs": [],
      "source": [
        "# store each column of the word dictionary into lists\n",
        "\n",
        "word_people = list(venmo_word_dict.select('People').dropna(how='all').toPandas()['People'])\n",
        "word_food = list(venmo_word_dict.select('Food').dropna(how='all').toPandas()['Food'])\n",
        "word_event = list(venmo_word_dict.select('Event').dropna(how='all').toPandas()['Event'])\n",
        "word_activity = list(venmo_word_dict.select('Activity').dropna(how='all').toPandas()['Activity'])\n",
        "word_travel = list(venmo_word_dict.select('Travel').dropna(how='all').toPandas()['Travel'])\n",
        "word_transportation = list(venmo_word_dict.select('Transportation').dropna(how='all').toPandas()['Transportation'])\n",
        "word_utility = list(venmo_word_dict.select('Utility').dropna(how='all').toPandas()['Utility'])\n",
        "word_cash = list(venmo_word_dict.select('Cash').dropna(how='all').toPandas()['Cash'])\n",
        "word_illegal = list(venmo_word_dict.select('Illegal/Sarcasm').dropna(how='all').toPandas()['Illegal/Sarcasm'])"
      ]
    },
    {
      "cell_type": "code",
      "execution_count": 8,
      "metadata": {
        "id": "CxS3unTeEStq"
      },
      "outputs": [],
      "source": [
        "# store each column of the emoji dictionary into lists\n",
        "\n",
        "emoji_event = list(venmo_emoji_dict.select('Event').dropna(how='all').toPandas()['Event'].dropna(how='all'))\n",
        "emoji_travel = list(venmo_emoji_dict.select('Travel').dropna(how='all').toPandas()['Travel'])\n",
        "emoji_food = list(venmo_emoji_dict.select('Food').dropna(how='all').toPandas()['Food'])\n",
        "emoji_activity = list(venmo_emoji_dict.select('Activity').dropna(how='all').toPandas()['Activity'])\n",
        "emoji_transportation = list(venmo_emoji_dict.select('Transportation').dropna(how='all').toPandas()['Transportation'])\n",
        "emoji_people = list(venmo_emoji_dict.select('People').dropna(how='all').toPandas()['People'])\n",
        "emoji_utility = list(venmo_emoji_dict.select('Utility').dropna(how='all').toPandas()['Utility'])"
      ]
    },
    {
      "cell_type": "code",
      "execution_count": 9,
      "metadata": {
        "colab": {
          "base_uri": "https://localhost:8080/"
        },
        "id": "q2CN3ksQEfME",
        "outputId": "3cd0fa54-cb06-45fb-8405-18121e29973e"
      },
      "outputs": [
        {
          "name": "stderr",
          "output_type": "stream",
          "text": [
            "/usr/local/lib/python3.7/dist-packages/ipykernel_launcher.py:2: FutureWarning: The demoji.download_codes attribute is deprecated and will be removed from demoji in a future version. It is an unused attribute as emoji codes are now distributed directly with the demoji package.\n",
            "  \n"
          ]
        }
      ],
      "source": [
        "import demoji\n",
        "demoji.download_codes()\n",
        "\n",
        "# convert emoji into text and strip unnecessary punctuations\n",
        "@udf\n",
        "def emoji_to_text(emojis):\n",
        "  emoji_text = \" \".join(emoji.demojize(emojis).replace(\"_\", \"\").replace(\":\", \" \").split())\n",
        "  return emoji_text"
      ]
    },
    {
      "cell_type": "code",
      "execution_count": 10,
      "metadata": {
        "id": "JIRACI8-EkDX"
      },
      "outputs": [],
      "source": [
        "# remove punctuations from string\n",
        "@udf\n",
        "def lower_clean_str(word):\n",
        "  punc='!\"#$%&\\'()*+,-./:;<=>?@[\\\\]^_`{|}~'\n",
        "  lowercased_str = word.lower()\n",
        "  for ch in punc:\n",
        "    lowercased_str = lowercased_str.replace(ch, '')\n",
        "  return lowercased_str"
      ]
    },
    {
      "cell_type": "code",
      "execution_count": 11,
      "metadata": {
        "id": "Ca8ItNcmEnyZ"
      },
      "outputs": [],
      "source": [
        "# text tokenization\n",
        "@udf\n",
        "def identify_tokens(word):\n",
        "    tokens = nltk.word_tokenize(word)\n",
        "    token_words = [w for w in tokens if w.isalpha()]\n",
        "    return token_words"
      ]
    },
    {
      "cell_type": "code",
      "execution_count": 12,
      "metadata": {
        "id": "Fbr9k1axEqkO"
      },
      "outputs": [],
      "source": [
        "# text stemming\n",
        "@udf\n",
        "def stemming(word):\n",
        "    stemming = PorterStemmer()\n",
        "    stemmed_list = [stemming.stem(word) for word in word]\n",
        "    return stemmed_list"
      ]
    },
    {
      "cell_type": "code",
      "execution_count": 13,
      "metadata": {
        "id": "WJcv1YKkLWBX"
      },
      "outputs": [],
      "source": [
        "# define classifications\n",
        "@udf\n",
        "def classify(word):\n",
        "  for element in word:\n",
        "    if element in word_people:\n",
        "      return \"People\"\n",
        "    elif element in word_food:\n",
        "      return \"Food\"\n",
        "    elif element in word_event:\n",
        "      return \"Event\"\n",
        "    elif element in word_activity:\n",
        "      return \"Activity\"\n",
        "    elif element in word_travel:\n",
        "      return \"Travel\"\n",
        "    elif element in word_transportation:\n",
        "      return \"Transportation\"\n",
        "    elif element in word_utility:\n",
        "      return \"Utility\"\n",
        "    elif element in word_cash:\n",
        "      return \"Cash\"\n",
        "    elif element in word_illegal:\n",
        "      return \"Illegal/Sarcasm\"\n",
        "    else:\n",
        "      return \"Unknown Category\""
      ]
    },
    {
      "cell_type": "code",
      "execution_count": 14,
      "metadata": {
        "colab": {
          "base_uri": "https://localhost:8080/"
        },
        "id": "mDgia4owEuYE",
        "outputId": "dcc73f45-18d9-4245-ef51-8ab35d88485e"
      },
      "outputs": [
        {
          "name": "stdout",
          "output_type": "stream",
          "text": [
            "+--------+-------+----------------+-------------------+--------------------+-----------+--------------------+--------------------+----------------+\n",
            "|   user1|  user2|transaction_type|           datetime|         description|is_business|            story_id|          clean_text|  classification|\n",
            "+--------+-------+----------------+-------------------+--------------------+-----------+--------------------+--------------------+----------------+\n",
            "| 1218774|1528945|         payment|2015-11-27 10:48:19|                Uber|      false|5657c473cd03c9af2...|              [uber]|  Transportation|\n",
            "| 5109483|4782303|         payment|2015-06-17 11:37:04|              Costco|      false|5580f9702b64f70ab...|            [costco]|            Food|\n",
            "| 4322148|3392963|         payment|2015-06-19 07:05:31|        Sweaty balls|      false|55835ccb1a624b14a...|      [sweati, ball]|Unknown Category|\n",
            "|  469894|1333620|          charge|2016-06-03 23:34:13|                  🎥|      false|5751b185cd03c9af2...|       [moviecamera]|Unknown Category|\n",
            "| 2960727|3442373|         payment|2016-05-29 23:23:42|                   ⚡|      false|574b178ecd03c9af2...|        [highvoltag]|Unknown Category|\n",
            "| 3977544|2709470|         payment|2016-09-29 22:12:07|          Chipotlaid|      false|57ed2f4723e064eac...|        [chipotlaid]|Unknown Category|\n",
            "| 3766386|4209061|         payment|2016-05-20 10:31:15|     kitchen counter|      false|573e8503cd03c9af2...|  [kitchen, counter]|            Food|\n",
            "|  730075| 804466|         payment|2016-05-26 04:46:45|                Food|      false|57461d46cd03c9af2...|              [food]|            Food|\n",
            "| 5221751|4993533|         payment|2016-07-14 22:53:49|               Zaxby|      false|5787b58d23e064eac...|             [zaxbi]|Unknown Category|\n",
            "| 6843582|7308338|         payment|2016-08-31 10:32:46|           Fan sucks|      false|57c64fdf23e064eac...|         [fan, suck]|          People|\n",
            "| 5317324|3942984|         payment|2016-01-04 09:11:25|                  👠|      false|5689c6bdcd03c9af2...|     [highheeledsho]|Unknown Category|\n",
            "| 1134661|1556430|         payment|2015-10-09 01:53:52|         Thanks babe|      false|5616bbc0cd03c9af2...|       [thank, babe]|          People|\n",
            "| 4238868|4879587|         payment|2015-10-04 08:28:01|                  🍺|      false|561080a1cd03c9af2...|           [beermug]|Unknown Category|\n",
            "|11719500|8702716|         payment|2016-07-07 21:40:39|                   ⛽|      false|577e69e723e064eac...|          [fuelpump]|Unknown Category|\n",
            "| 3625798|5692302|         payment|2016-10-16 14:43:41|Hey man  it's bee...|      false|58032fad23e064eac...|[hey, man, it, be...|Unknown Category|\n",
            "|  613908|3045405|          charge|2016-05-07 06:42:17|         Getaway car|      false|572d2bd9cd03c9af2...|      [getaway, car]|        Activity|\n",
            "| 4682257|1870271|         payment|2016-02-24 09:14:12|     🔮 gypsy things|      false|56cd03e4cd03c9af2...|[crystalbal, gyps...|Unknown Category|\n",
            "| 9414481|2869012|         payment|2016-04-09 09:19:46|                  🔴|      false|570866c2cd03c9af2...|          [redcircl]|Unknown Category|\n",
            "|  241386|2580543|         payment|2015-05-17 06:00:19|           Furniture|      false|5557cc0407f81c33e...|          [furnitur]|Unknown Category|\n",
            "|  656477| 656214|          charge|2013-12-14 22:43:27|bed bath mostly b...|      false|52ac6e93d56b6bac5...|[bed, bath, mostl...|         Utility|\n",
            "+--------+-------+----------------+-------------------+--------------------+-----------+--------------------+--------------------+----------------+\n",
            "only showing top 20 rows\n",
            "\n"
          ]
        }
      ],
      "source": [
        "venmo_data = venmo_data.withColumn(\"emoji_text\",emoji_to_text(col(\"description\")))\n",
        "venmo_data = venmo_data.withColumn(\"clean_punct\",lower_clean_str(col(\"emoji_text\")))\n",
        "venmo_data = venmo_data.withColumn(\"clean_text\",identify_tokens(col(\"clean_punct\")))\n",
        "venmo_data = venmo_data.withColumn(\"clean_text\",stemming(col(\"clean_text\")))\n",
        "venmo_data = venmo_data.withColumn(\"classification\",classify(col(\"clean_text\")))\n",
        "venmo_data = venmo_data.drop('emoji_text', 'clean_punct')\n",
        "\n",
        "venmo_data.show()"
      ]
    },
    {
      "cell_type": "markdown",
      "metadata": {
        "id": "PgpdkRA9t246"
      },
      "source": [
        "**Task_2: Compute the percent of emoji only transactions. Compute the top 5 most popular emoji and the top 3 most popular emoji categories?**"
      ]
    },
    {
      "cell_type": "code",
      "execution_count": 15,
      "metadata": {
        "colab": {
          "base_uri": "https://localhost:8080/"
        },
        "id": "_YKNok8pt30N",
        "outputId": "78e6b21a-8720-4ecb-b537-2d5885de8642"
      },
      "outputs": [
        {
          "name": "stdout",
          "output_type": "stream",
          "text": [
            "+-------+-------+----------------+-------------------+------------+-----------+--------------------+--------------+----------------+-----+\n",
            "|  user1|  user2|transaction_type|           datetime| description|is_business|            story_id|    clean_text|  classification|emoji|\n",
            "+-------+-------+----------------+-------------------+------------+-----------+--------------------+--------------+----------------+-----+\n",
            "|1218774|1528945|         payment|2015-11-27 10:48:19|        Uber|      false|5657c473cd03c9af2...|        [uber]|  Transportation|    0|\n",
            "|5109483|4782303|         payment|2015-06-17 11:37:04|      Costco|      false|5580f9702b64f70ab...|      [costco]|            Food|    0|\n",
            "|4322148|3392963|         payment|2015-06-19 07:05:31|Sweaty balls|      false|55835ccb1a624b14a...|[sweati, ball]|Unknown Category|    0|\n",
            "| 469894|1333620|          charge|2016-06-03 23:34:13|          🎥|      false|5751b185cd03c9af2...| [moviecamera]|Unknown Category|    1|\n",
            "|2960727|3442373|         payment|2016-05-29 23:23:42|           ⚡|      false|574b178ecd03c9af2...|  [highvoltag]|Unknown Category|    1|\n",
            "+-------+-------+----------------+-------------------+------------+-----------+--------------------+--------------+----------------+-----+\n",
            "only showing top 5 rows\n",
            "\n"
          ]
        }
      ],
      "source": [
        "# check if only emoji\n",
        "@udf\n",
        "def check_emoji(descriptions):\n",
        "  if len(descriptions) == emojis.count(descriptions):\n",
        "    return 1\n",
        "  else: return 0\n",
        "\n",
        "venmo_data = venmo_data.withColumn(\"emoji\",check_emoji(col(\"description\")))\n",
        "venmo_data.show(5)"
      ]
    },
    {
      "cell_type": "code",
      "execution_count": null,
      "metadata": {
        "colab": {
          "base_uri": "https://localhost:8080/"
        },
        "id": "X822rVctt4Ua",
        "outputId": "ad12cb47-0555-49d6-caee-41807fea7194"
      },
      "outputs": [
        {
          "name": "stdout",
          "output_type": "stream",
          "text": [
            "+----------------------+\n",
            "|(sum(emoji) / 7113137)|\n",
            "+----------------------+\n",
            "|   0.20637223773420926|\n",
            "+----------------------+\n",
            "\n"
          ]
        }
      ],
      "source": [
        "# find out percentage of emoji only transactions\n",
        "venmo_data.select(sum(\"emoji\")/venmo_data.count()).show()"
      ]
    },
    {
      "cell_type": "code",
      "execution_count": 16,
      "metadata": {
        "colab": {
          "base_uri": "https://localhost:8080/"
        },
        "id": "Lz8KD21Jw8Q4",
        "outputId": "f75d550a-a5a8-42ac-9d35-75b690c785bb"
      },
      "outputs": [
        {
          "name": "stdout",
          "output_type": "stream",
          "text": [
            "+--------+-------+----------------+-------------------+-----------+-----------+--------------------+---------------+----------------+-----+\n",
            "|   user1|  user2|transaction_type|           datetime|description|is_business|            story_id|     clean_text|  classification|emoji|\n",
            "+--------+-------+----------------+-------------------+-----------+-----------+--------------------+---------------+----------------+-----+\n",
            "|  469894|1333620|          charge|2016-06-03 23:34:13|         🎥|      false|5751b185cd03c9af2...|  [moviecamera]|Unknown Category|    1|\n",
            "| 2960727|3442373|         payment|2016-05-29 23:23:42|          ⚡|      false|574b178ecd03c9af2...|   [highvoltag]|Unknown Category|    1|\n",
            "| 5317324|3942984|         payment|2016-01-04 09:11:25|         👠|      false|5689c6bdcd03c9af2...|[highheeledsho]|Unknown Category|    1|\n",
            "| 4238868|4879587|         payment|2015-10-04 08:28:01|         🍺|      false|561080a1cd03c9af2...|      [beermug]|Unknown Category|    1|\n",
            "|11719500|8702716|         payment|2016-07-07 21:40:39|          ⛽|      false|577e69e723e064eac...|     [fuelpump]|Unknown Category|    1|\n",
            "+--------+-------+----------------+-------------------+-----------+-----------+--------------------+---------------+----------------+-----+\n",
            "only showing top 5 rows\n",
            "\n"
          ]
        }
      ],
      "source": [
        "# filter the descriptions for emoji only transactions\n",
        "emojis_only = venmo_data.filter(\"emoji == '1'\")\n",
        "emojis_only.createOrReplaceTempView(\"emojis_only\")\n",
        "emojis_only.show(5)"
      ]
    },
    {
      "cell_type": "code",
      "execution_count": null,
      "metadata": {
        "id": "0AuQKB2551x4"
      },
      "outputs": [],
      "source": [
        "# find the top 5 most popular emojis\n",
        "Counter(emojis_only(col(\"description\"))).show()"
      ]
    },
    {
      "cell_type": "code",
      "execution_count": 17,
      "metadata": {
        "id": "MUIRSZua6NX3"
      },
      "outputs": [],
      "source": [
        "# create a function to filter emojis into different categories\n",
        "@udf\n",
        "def emoji_category(emo):\n",
        "  if emo in emoji_event:\n",
        "    return \"Event\"\n",
        "  elif emo in emoji_travel:\n",
        "    return \"Travel\"\n",
        "  elif emo in emoji_food:\n",
        "    return \"Food\"\n",
        "  elif emo in emoji_transportation:\n",
        "    return \"Transportation\"\n",
        "  elif emo in emoji_people:\n",
        "    return \"People\"\n",
        "  elif emo in emoji_utility:\n",
        "    return \"Utility\"\n",
        "  else:\n",
        "    return \"Unknown Category\""
      ]
    },
    {
      "cell_type": "code",
      "execution_count": 18,
      "metadata": {
        "colab": {
          "base_uri": "https://localhost:8080/"
        },
        "id": "0GD60sHt6Tdt",
        "outputId": "1d78633a-733d-48a1-b8a5-9fb18c5422a9"
      },
      "outputs": [
        {
          "name": "stdout",
          "output_type": "stream",
          "text": [
            "+--------+-------+----------------+-------------------+-----------+-----------+--------------------+---------------+----------------+-----+\n",
            "|   user1|  user2|transaction_type|           datetime|description|is_business|            story_id|     clean_text|  classification|emoji|\n",
            "+--------+-------+----------------+-------------------+-----------+-----------+--------------------+---------------+----------------+-----+\n",
            "|  469894|1333620|          charge|2016-06-03 23:34:13|         🎥|      false|5751b185cd03c9af2...|  [moviecamera]|           Event|    1|\n",
            "| 2960727|3442373|         payment|2016-05-29 23:23:42|          ⚡|      false|574b178ecd03c9af2...|   [highvoltag]|         Utility|    1|\n",
            "| 5317324|3942984|         payment|2016-01-04 09:11:25|         👠|      false|5689c6bdcd03c9af2...|[highheeledsho]|Unknown Category|    1|\n",
            "| 4238868|4879587|         payment|2015-10-04 08:28:01|         🍺|      false|561080a1cd03c9af2...|      [beermug]|            Food|    1|\n",
            "|11719500|8702716|         payment|2016-07-07 21:40:39|          ⛽|      false|577e69e723e064eac...|     [fuelpump]|  Transportation|    1|\n",
            "+--------+-------+----------------+-------------------+-----------+-----------+--------------------+---------------+----------------+-----+\n",
            "only showing top 5 rows\n",
            "\n"
          ]
        }
      ],
      "source": [
        "emojis_only = emojis_only.withColumn(\"classification\",emoji_category(col(\"description\")))\n",
        "\n",
        "emojis_only.show(5)"
      ]
    },
    {
      "cell_type": "code",
      "execution_count": null,
      "metadata": {
        "id": "8aRen_qgFptp"
      },
      "outputs": [],
      "source": [
        "Counter(emojis_only(\"classification\")).most_common(3)"
      ]
    },
    {
      "cell_type": "markdown",
      "metadata": {
        "id": "ndrAHURCMdmf"
      },
      "source": [
        "**Task_3: For each user, create a variable to indicate their spending behavior profile. For example, if a user has made 10 transactions, where 5 of them are food and the other 5 are activity, then the user’s spending profile will be 50% food and 50% activity.**"
      ]
    },
    {
      "cell_type": "code",
      "execution_count": 19,
      "metadata": {
        "colab": {
          "base_uri": "https://localhost:8080/"
        },
        "id": "Nd39qiVnIZI_",
        "outputId": "aea43e18-478b-47ce-edaf-b40348e6a4bf"
      },
      "outputs": [
        {
          "name": "stdout",
          "output_type": "stream",
          "text": [
            "+-----+-------+----------------+-------------------+--------------------+-----------+--------------------+--------------------+----------------+-----+\n",
            "|user1|  user2|transaction_type|           datetime|         description|is_business|            story_id|          clean_text|  classification|emoji|\n",
            "+-----+-------+----------------+-------------------+--------------------+-----------+--------------------+--------------------+----------------+-----+\n",
            "|    2|    220|         payment|2012-11-23 06:03:42|Grab that couch. ...|      false|54e419e6cd03c9af2...|[grab, that, couc...|Unknown Category|    0|\n",
            "|    3|7854140|         payment|2016-10-09 03:36:13|Check out this re...|      false|57f958bd23e064eac...|[check, out, thi,...|         Utility|    0|\n",
            "|    3|1079020|         payment|2016-10-07 23:37:56|Good luck on your...|      false|57f7cf6423e064eac...|[good, luck, on, ...|Unknown Category|    0|\n",
            "|    3|     52|         payment|2016-09-22 15:30:09|Hehe.. we need so...|      false|57e3969123e064eac...|[hehe, we, need, ...|Unknown Category|    0|\n",
            "|    3|1204190|         payment|2016-10-09 01:56:24|Can I borrow thos...|      false|57f9415823e064eac...|[can, i, borrow, ...|Unknown Category|    0|\n",
            "|    3|2382556|         payment|2016-10-06 10:49:45|http://ense.nyc/e...|      false|57f5c9d923e064eac...|              [http]|Unknown Category|    0|\n",
            "|    3|2382556|         payment|2016-10-07 08:50:23|     Keepin' it real|      false|57f6ff6023e064eac...|  [keepin, it, real]|Unknown Category|    0|\n",
            "|    4| 221578|         payment|2016-04-17 03:35:09|                  🔫|      false|5712a1fdcd03c9af2...|       [waterpistol]|Unknown Category|    1|\n",
            "|    4| 968271|         payment|2014-02-04 06:51:33|    for bball league|      false|52f01d75c62cecac3...| [for, bball, leagu]|Unknown Category|    0|\n",
            "|    4|9271982|         payment|2016-03-03 12:45:57|                  🏕|      false|56d7c185cd03c9af2...|              [camp]|        Activity|    0|\n",
            "|    4| 187560|          charge|2015-06-17 09:23:30|             samovar|      false|5580da2211615c78a...|           [samovar]|Unknown Category|    0|\n",
            "|    4| 125527|         payment|2012-12-15 05:51:12|                 BBQ|      false|50cb9fed25ee44b9a...|               [bbq]|            Food|    0|\n",
            "|    4| 122744|         payment|2012-12-03 03:35:53|             hot sex|      false|54e41a2ecd03c9af2...|          [hot, sex]|            Food|    0|\n",
            "|   10|     43|         payment|2012-12-31 12:44:12|  Everything tonight|      false|50e118db25ee44b9a...|  [everyth, tonight]|Unknown Category|    0|\n",
            "|   10|    255|         payment|2012-11-25 09:20:39|      Thank you bro!|      false|50b172d925ee44b9a...|   [thank, you, bro]|          People|    0|\n",
            "|   10|  36523|         payment|2015-01-30 05:59:59|Fruit roll ups an...|      false|54caad5fca134c404...|[fruit, roll, up,...|            Food|    0|\n",
            "|   10|     43|         payment|2012-12-23 11:08:45|                Grub|      false|50d6766b25ee44b9a...|              [grub]|            Food|    0|\n",
            "|   10|    255|         payment|2013-03-11 04:38:51|Love my belt..i'm...|      false|513cfec025ee44b9a...|[love, my, beltim...|          People|    0|\n",
            "|   10|3844713|         payment|2016-01-30 14:42:13|             Dominos|      false|56ac5b45cd03c9af2...|            [domino]|            Food|    0|\n",
            "|   10|  36523|         payment|2015-01-21 23:29:21|That cheesecake ....|      false|54bfc5d1ca134c404...|[that, cheesecak,...|Unknown Category|    0|\n",
            "+-----+-------+----------------+-------------------+--------------------+-----------+--------------------+--------------------+----------------+-----+\n",
            "only showing top 20 rows\n",
            "\n"
          ]
        }
      ],
      "source": [
        "# add index column and create temporary view\n",
        "from functools import reduce \n",
        "from pyspark.sql import DataFrame\n",
        "from pyspark.sql import SparkSession\n",
        "\n",
        "text_only = venmo_data.filter(\"emoji == '0'\")\n",
        "text_only.createOrReplaceTempView(\"text_only\")\n",
        "\n",
        "def unionAll(*dfs):\n",
        "    return reduce(DataFrame.unionAll, dfs)\n",
        "\n",
        "venmo_data = unionAll(*[text_only,emojis_only]).sort(\"user1\")\n",
        "venmo_data.createOrReplaceTempView(\"Venmo_data\")\n",
        "venmo_data.show()"
      ]
    },
    {
      "cell_type": "code",
      "execution_count": null,
      "metadata": {
        "colab": {
          "base_uri": "https://localhost:8080/"
        },
        "id": "im4ogVfdMLty",
        "outputId": "37f77603-b47d-4edf-8296-a536c66bb0f1"
      },
      "outputs": [
        {
          "name": "stdout",
          "output_type": "stream",
          "text": [
            "+-----+----------------+-------------------+------+\n",
            "|user1|  classification|transsaction_counts| ratio|\n",
            "+-----+----------------+-------------------+------+\n",
            "|    2|Unknown Category|                  1|100.0%|\n",
            "|    3|         Utility|                  1|16.67%|\n",
            "|    3|Unknown Category|                  5|83.33%|\n",
            "|    4|Unknown Category|                  3| 50.0%|\n",
            "|    4|        Activity|                  1|16.67%|\n",
            "|    4|            Food|                  2|33.33%|\n",
            "|   10|          People|                  2| 20.0%|\n",
            "|   10|Unknown Category|                  3| 30.0%|\n",
            "|   10|        Activity|                  1| 10.0%|\n",
            "|   10|            Food|                  4| 40.0%|\n",
            "|   11|Unknown Category|                 23| 92.0%|\n",
            "|   11|            Food|                  2|  8.0%|\n",
            "|   12|Unknown Category|                  9|100.0%|\n",
            "|   13|Unknown Category|                 19|100.0%|\n",
            "|   16|Unknown Category|                  4| 40.0%|\n",
            "|   16|            Food|                  4| 40.0%|\n",
            "|   16|          Travel|                  1| 10.0%|\n",
            "|   16|        Activity|                  1| 10.0%|\n",
            "|   19|        Activity|                  1| 25.0%|\n",
            "|   19|Unknown Category|                  2| 50.0%|\n",
            "+-----+----------------+-------------------+------+\n",
            "only showing top 20 rows\n",
            "\n"
          ]
        }
      ],
      "source": [
        "Spending_Behavior = spark.sql(\"\"\"\n",
        "                    SELECT user1, classification, count(*) AS transsaction_counts,\n",
        "                    CONCAT(ROUND(COUNT(*)/SUM(COUNT(*)) OVER (PARTITION BY user1) *100, 2),'%') AS ratio\n",
        "                    FROM venmo_data\n",
        "                    GROUP BY user1, classification\n",
        "                    ORDER BY user1\n",
        "                    \"\"\")\n",
        "Spending_Behavior.show()"
      ]
    },
    {
      "cell_type": "markdown",
      "metadata": {
        "id": "SZp0AIw2bwiy"
      },
      "source": [
        "**Task_4: In Task_3, we got a static spending profile. However, life and social networks are evolving over time. Therefore, let’s explore how a user’s spending profile is evolving over her lifetime in Venmo. First of all, we need to analyze a user’s transactions in monthly intervals, starting from 0 (indicating their first transaction only) up to 12.**"
      ]
    },
    {
      "cell_type": "code",
      "execution_count": 20,
      "metadata": {
        "colab": {
          "base_uri": "https://localhost:8080/"
        },
        "id": "vJKPU49Bbx7q",
        "outputId": "91fba07c-e1d4-4663-c46d-29ca8181b935"
      },
      "outputs": [
        {
          "name": "stdout",
          "output_type": "stream",
          "text": [
            "+-----+-------+-------------------+----------------+----+\n",
            "|user1|  user2|           datetime|  classification|days|\n",
            "+-----+-------+-------------------+----------------+----+\n",
            "|    2|    220|2012-11-23 06:03:42|Unknown Category|   0|\n",
            "|    3|2382556|2016-10-07 08:50:23|Unknown Category|  15|\n",
            "|    3|1204190|2016-10-09 01:56:24|Unknown Category|  17|\n",
            "|    3|7854140|2016-10-09 03:36:13|         Utility|  17|\n",
            "|    3|     52|2016-09-22 15:30:09|Unknown Category|   0|\n",
            "|    3|1079020|2016-10-07 23:37:56|Unknown Category|  15|\n",
            "|    3|2382556|2016-10-06 10:49:45|Unknown Category|  14|\n",
            "|    4| 221578|2016-04-17 03:35:09|Unknown Category|1231|\n",
            "|    4|9271982|2016-03-03 12:45:57|        Activity|1186|\n",
            "|    4| 187560|2015-06-17 09:23:30|Unknown Category| 926|\n",
            "|    4| 968271|2014-02-04 06:51:33|Unknown Category| 428|\n",
            "|    4| 125527|2012-12-15 05:51:12|            Food|  12|\n",
            "|    4| 122744|2012-12-03 03:35:53|            Food|   0|\n",
            "|   10|3844713|2016-01-30 14:42:13|            Food|1161|\n",
            "|   10|    255|2012-11-25 09:20:39|          People|   0|\n",
            "|   10|    255|2013-01-14 08:18:43|        Activity|  50|\n",
            "|   10|     43|2013-03-03 12:47:10|            Food|  98|\n",
            "|   10|  36523|2015-01-21 23:29:21|Unknown Category| 787|\n",
            "|   10|    255|2013-03-11 04:38:51|          People| 106|\n",
            "|   10|     43|2012-12-31 12:44:12|Unknown Category|  36|\n",
            "+-----+-------+-------------------+----------------+----+\n",
            "only showing top 20 rows\n",
            "\n"
          ]
        }
      ],
      "source": [
        "# calculate transaction date difference\n",
        "Transaction = spark.sql(\"\"\"\n",
        "                SELECT user1, user2, datetime, classification, \n",
        "                DATEDIFF(datetime,FIRST_VALUE(datetime) OVER (PARTITION BY user1 ORDER BY datetime)) AS days\n",
        "                FROM venmo_data\n",
        "                GROUP BY user1, user2, datetime, classification\n",
        "                ORDER BY user1\n",
        "                \"\"\")\n",
        "Transaction.show()"
      ]
    },
    {
      "cell_type": "code",
      "execution_count": 21,
      "metadata": {
        "colab": {
          "base_uri": "https://localhost:8080/"
        },
        "id": "9_vEED5umbmh",
        "outputId": "3bd1e827-b6db-4966-fecd-f3d824d68967"
      },
      "outputs": [
        {
          "name": "stdout",
          "output_type": "stream",
          "text": [
            "+-----+-------+-------------------+----------------+----+-----+\n",
            "|user1|  user2|           datetime|  classification|days|month|\n",
            "+-----+-------+-------------------+----------------+----+-----+\n",
            "|    2|    220|2012-11-23 06:03:42|Unknown Category|   0|    0|\n",
            "|    3|2382556|2016-10-06 10:49:45|Unknown Category|  14|    1|\n",
            "|    3|1204190|2016-10-09 01:56:24|Unknown Category|  17|    1|\n",
            "|    3|1079020|2016-10-07 23:37:56|Unknown Category|  15|    1|\n",
            "|    3|2382556|2016-10-07 08:50:23|Unknown Category|  15|    1|\n",
            "|    3|     52|2016-09-22 15:30:09|Unknown Category|   0|    0|\n",
            "|    3|7854140|2016-10-09 03:36:13|         Utility|  17|    1|\n",
            "|    4| 125527|2012-12-15 05:51:12|            Food|  12|    1|\n",
            "|    4| 122744|2012-12-03 03:35:53|            Food|   0|    0|\n",
            "|   10|    255|2013-01-14 08:18:43|        Activity|  50|    2|\n",
            "|   10|     43|2013-03-03 12:47:10|            Food|  98|    4|\n",
            "|   10|     43|2012-12-23 11:08:45|            Food|  28|    1|\n",
            "|   10|    255|2013-03-11 04:38:51|          People| 106|    4|\n",
            "|   10|  71056|2013-04-05 09:48:56|Unknown Category| 131|    5|\n",
            "|   10|     43|2012-12-31 12:44:12|Unknown Category|  36|    2|\n",
            "|   10|    255|2012-11-25 09:20:39|          People|   0|    0|\n",
            "|   11| 133784|2012-10-13 06:32:54|Unknown Category| 142|    5|\n",
            "|   11|     42|2012-08-25 00:30:23|Unknown Category|  93|    4|\n",
            "|   11|  49778|2012-10-07 04:57:45|Unknown Category| 136|    5|\n",
            "|   11| 160300|2012-11-18 03:58:43|Unknown Category| 178|    6|\n",
            "+-----+-------+-------------------+----------------+----+-----+\n",
            "only showing top 20 rows\n",
            "\n"
          ]
        }
      ],
      "source": [
        "# convert days into month\n",
        "Transaction_month = Transaction.select(\"*\", \n",
        "          when(Transaction.days==0, 0)\\\n",
        "         .when((Transaction.days>0) & (Transaction.days<=30), 1) \\\n",
        "         .when((Transaction.days>30) & (Transaction.days<=60), 2) \\\n",
        "         .when((Transaction.days>60) & (Transaction.days<=90), 3)\\\n",
        "         .when((Transaction.days>90) & (Transaction.days<=120), 4)\\\n",
        "         .when((Transaction.days>120) & (Transaction.days<=150), 5)\\\n",
        "         .when((Transaction.days>150) & (Transaction.days<=180), 6)\\\n",
        "         .when((Transaction.days>180) & (Transaction.days<=210), 7)\\\n",
        "         .when((Transaction.days>210) & (Transaction.days<=240), 8)\\\n",
        "         .when((Transaction.days>240) & (Transaction.days<=270), 9)\\\n",
        "         .when((Transaction.days>270) & (Transaction.days<=300), 10)\\\n",
        "         .when((Transaction.days>300) & (Transaction.days<=330), 11)\\\n",
        "         .when((Transaction.days>330) & (Transaction.days<=360), 12)\\\n",
        "         .otherwise(-1).alias('month'))\n",
        "\n",
        "Transaction_month.createOrReplaceTempView(\"Transaction_month\")\n",
        "spending_profile = Transaction_month.filter(\"month != -1 \").sort(\"user1\")\n",
        "\n",
        "spending_profile.createOrReplaceTempView(\"spending_profile\")\n",
        "spending_profile.show()"
      ]
    },
    {
      "cell_type": "code",
      "execution_count": null,
      "metadata": {
        "id": "7I36hicg94Dr"
      },
      "outputs": [],
      "source": [
        "percentage = spark.sql(\"\"\"\n",
        "                SELECT user1, month, classification,\n",
        "                CONCAT(ROUND(COUNT(*)/SUM(count(*)) OVER (PARTITION BY user1, month), 2),'%') AS percentage\n",
        "                FROM spending_profile \n",
        "                GROUP BY user1, month, classification\n",
        "                ORDER BY user1\n",
        "                \"\"\")\n",
        "\n",
        "percentage.createOrReplaceTempView(\"percentage\")\n",
        "\n",
        "percentage.show()"
      ]
    },
    {
      "cell_type": "code",
      "execution_count": null,
      "metadata": {
        "id": "84PlL9iBSzqk"
      },
      "outputs": [],
      "source": [
        "classes = sorted(percentage.select(\"classification\").distinct().rdd.map(lambda row: row[0]).collect())\n",
        "col = [when(col(\"classification\") == clasifications, col(\"percentage\")).otherwise(None).alias(clasifications) for clasifications in classes]\n",
        "max = [max(col(clasifications)).alias(clasifications) for clasifications in classes]\n",
        "\n",
        "dynamic_profile = (dynamic_tbl.select(col(\"user1\"), col(\"month\"), *col)\\\n",
        "            .groupBy(\"user1\", \"month\").agg(*max).na.fill(0)\\\n",
        "            .orderBy(\"user1\", \"month\"))\n",
        "\n",
        "dynamic_profile.createOrReplaceTempView(\"dynamic_profile\")\n",
        "\n",
        "dynamic_profile.show(50)"
      ]
    },
    {
      "cell_type": "code",
      "execution_count": null,
      "metadata": {
        "id": "24HNvTwjcEf-"
      },
      "outputs": [],
      "source": [
        "# calculate mean, standard deviation for each time period and each class\n",
        "summary_stats = dynamic_profile.summary()\n",
        "dynamic_summary = summary_stats.select(\"*\").toPandas()"
      ]
    },
    {
      "cell_type": "code",
      "execution_count": null,
      "metadata": {
        "id": "sEXKHPEJdTd7"
      },
      "outputs": [],
      "source": [
        "dynamic_summary = df_dynamic_summary.reset_index()\n",
        "headers = dynamic_summary.iloc[0] \n",
        "dynamic_summary = dynamic_summary[2:] \n",
        "dynamic_summary = dynamic_summary.reset_index(drop=True)\n",
        "dynamic_summary.head()"
      ]
    },
    {
      "cell_type": "code",
      "execution_count": null,
      "metadata": {
        "id": "5AhfHOBc21Me"
      },
      "outputs": [],
      "source": [
        "# spending behavior plot. \n",
        "fig, ax = plt.subplots()\n",
        "\n",
        "for key, group in df_dynamic_summary.groupby('category'):\n",
        "    group.plot('time', 'mean', yerr='2std', label=key, ax=ax) \n",
        "\n",
        "plt.show()"
      ]
    }
  ],
  "metadata": {
    "colab": {
      "collapsed_sections": [],
      "name": "Untitled1.ipynb",
      "provenance": []
    },
    "kernelspec": {
      "display_name": "Python 3",
      "name": "python3"
    },
    "language_info": {
      "name": "python"
    }
  },
  "nbformat": 4,
  "nbformat_minor": 0
}
