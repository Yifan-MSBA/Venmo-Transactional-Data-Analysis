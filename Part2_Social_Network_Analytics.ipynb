{
  "cells": [
    {
      "cell_type": "markdown",
      "metadata": {
        "id": "yR6SgOEGs1dR"
      },
      "source": [
        "# **Social Network Analytics**"
      ]
    },
    {
      "cell_type": "code",
      "execution_count": 1,
      "metadata": {
        "id": "pI2Ykwdqyi_R"
      },
      "outputs": [],
      "source": [
        "!apt-get install openjdk-8-jdk-headless -qq > /dev/null\n",
        "!wget -q https://archive.apache.org/dist/spark/spark-3.1.2/spark-3.1.2-bin-hadoop3.2.tgz\n",
        "!tar xf spark-3.1.2-bin-hadoop3.2.tgz\n",
        "!pip install -q findspark\n",
        "\n",
        "import os\n",
        "os.environ[\"JAVA_HOME\"] = \"/usr/lib/jvm/java-8-openjdk-amd64\"\n",
        "os.environ[\"SPARK_HOME\"] = \"/content/spark-3.1.2-bin-hadoop3.2\"\n",
        "import findspark\n",
        "findspark.init()\n",
        "from pyspark.sql import SparkSession\n",
        "from pyspark import SparkConf, SparkContext\n",
        "from datetime import datetime, date, timedelta\n",
        "from dateutil import relativedelta\n",
        "from pyspark.sql import SQLContext, Row\n",
        "from pyspark.sql.types import *\n",
        "from pyspark.sql.functions import *\n",
        "from pyspark.sql import DataFrame\n",
        "from pyspark.sql.functions import *\n",
        "from pyspark.sql.functions import to_timestamp, to_date\n",
        "from pyspark.sql import functions as F  \n",
        "from pyspark.sql.functions import collect_list, collect_set, concat, first, array_distinct, col, size, expr\n",
        "from pyspark.sql import DataFrame \n",
        "import pandas as pd\n",
        "import matplotlib.pyplot as plt\n",
        "from pyspark.ml.regression import LinearRegression\n",
        "from pyspark.ml import Pipeline\n",
        "from pyspark.ml.linalg import Vectors\n",
        "from pyspark.ml.feature import VectorAssembler, StringIndexer, OneHotEncoder"
      ]
    },
    {
      "cell_type": "code",
      "execution_count": 2,
      "metadata": {
        "id": "vwm75wHd5Q0H"
      },
      "outputs": [],
      "source": [
        "spark = SparkSession.builder.getOrCreate()"
      ]
    },
    {
      "cell_type": "code",
      "execution_count": 4,
      "metadata": {
        "colab": {
          "base_uri": "https://localhost:8080/"
        },
        "id": "wHSTnA0E5Tei",
        "outputId": "cadb3165-751b-49e3-d947-4368a8a9a927"
      },
      "outputs": [
        {
          "name": "stdout",
          "output_type": "stream",
          "text": [
            "root\n",
            " |-- user1: integer (nullable = true)\n",
            " |-- user2: integer (nullable = true)\n",
            " |-- transaction_type: string (nullable = true)\n",
            " |-- datetime: timestamp (nullable = true)\n",
            " |-- description: string (nullable = true)\n",
            " |-- is_business: boolean (nullable = true)\n",
            " |-- story_id: string (nullable = true)\n",
            "\n",
            "+--------+-------+----------------+-------------------+--------------------+-----------+--------------------+\n",
            "|   user1|  user2|transaction_type|           datetime|         description|is_business|            story_id|\n",
            "+--------+-------+----------------+-------------------+--------------------+-----------+--------------------+\n",
            "| 1218774|1528945|         payment|2015-11-27 10:48:19|                Uber|      false|5657c473cd03c9af2...|\n",
            "| 5109483|4782303|         payment|2015-06-17 11:37:04|              Costco|      false|5580f9702b64f70ab...|\n",
            "| 4322148|3392963|         payment|2015-06-19 07:05:31|        Sweaty balls|      false|55835ccb1a624b14a...|\n",
            "|  469894|1333620|          charge|2016-06-03 23:34:13|                  🎥|      false|5751b185cd03c9af2...|\n",
            "| 2960727|3442373|         payment|2016-05-29 23:23:42|                   ⚡|      false|574b178ecd03c9af2...|\n",
            "| 3977544|2709470|         payment|2016-09-29 22:12:07|          Chipotlaid|      false|57ed2f4723e064eac...|\n",
            "| 3766386|4209061|         payment|2016-05-20 10:31:15|     kitchen counter|      false|573e8503cd03c9af2...|\n",
            "|  730075| 804466|         payment|2016-05-26 04:46:45|                Food|      false|57461d46cd03c9af2...|\n",
            "| 5221751|4993533|         payment|2016-07-14 22:53:49|               Zaxby|      false|5787b58d23e064eac...|\n",
            "| 6843582|7308338|         payment|2016-08-31 10:32:46|           Fan sucks|      false|57c64fdf23e064eac...|\n",
            "| 5317324|3942984|         payment|2016-01-04 09:11:25|                  👠|      false|5689c6bdcd03c9af2...|\n",
            "| 1134661|1556430|         payment|2015-10-09 01:53:52|         Thanks babe|      false|5616bbc0cd03c9af2...|\n",
            "| 4238868|4879587|         payment|2015-10-04 08:28:01|                  🍺|      false|561080a1cd03c9af2...|\n",
            "|11719500|8702716|         payment|2016-07-07 21:40:39|                   ⛽|      false|577e69e723e064eac...|\n",
            "| 3625798|5692302|         payment|2016-10-16 14:43:41|Hey man  it's bee...|      false|58032fad23e064eac...|\n",
            "|  613908|3045405|          charge|2016-05-07 06:42:17|         Getaway car|      false|572d2bd9cd03c9af2...|\n",
            "| 4682257|1870271|         payment|2016-02-24 09:14:12|     🔮 gypsy things|      false|56cd03e4cd03c9af2...|\n",
            "| 9414481|2869012|         payment|2016-04-09 09:19:46|                  🔴|      false|570866c2cd03c9af2...|\n",
            "|  241386|2580543|         payment|2015-05-17 06:00:19|           Furniture|      false|5557cc0407f81c33e...|\n",
            "|  656477| 656214|          charge|2013-12-14 22:43:27|bed bath mostly b...|      false|52ac6e93d56b6bac5...|\n",
            "+--------+-------+----------------+-------------------+--------------------+-----------+--------------------+\n",
            "only showing top 20 rows\n",
            "\n"
          ]
        }
      ],
      "source": [
        "df_venmo = spark.read.parquet('VenmoSample.snappy.parquet')\n",
        "df_venmo.printSchema()\n",
        "df_venmo.show()"
      ]
    },
    {
      "cell_type": "code",
      "execution_count": 5,
      "metadata": {
        "id": "oiW9B-DF5zjT"
      },
      "outputs": [],
      "source": [
        "df_venmo.createOrReplaceTempView('df_venmo')"
      ]
    },
    {
      "cell_type": "markdown",
      "metadata": {
        "id": "TW06Bo6QsDDz"
      },
      "source": [
        "**Task_5: Find a user’s friends and friends of friends (Friend definition: A user’s friend is someone who has transacted with the user, either sending money to the user or receiving money from the user). Describe your algorithm and calculate its computational complexity. Can you do it better?**"
      ]
    },
    {
      "cell_type": "code",
      "execution_count": 9,
      "metadata": {
        "colab": {
          "base_uri": "https://localhost:8080/"
        },
        "id": "xaU39fmB-BBe",
        "outputId": "275efe24-b850-4c4c-f140-a298b68df361"
      },
      "outputs": [
        {
          "name": "stdout",
          "output_type": "stream",
          "text": [
            "+----+-------+-------------------+\n",
            "|user| friend|           datetime|\n",
            "+----+-------+-------------------+\n",
            "|   2|    220|2012-11-23 06:03:42|\n",
            "|   2|     43|2016-04-09 09:29:31|\n",
            "|   2|     43|2016-09-07 07:53:16|\n",
            "|   2| 191142|2016-09-26 09:56:55|\n",
            "|   3|     43|2016-06-27 01:14:37|\n",
            "|   3| 263437|2016-07-22 21:16:37|\n",
            "|   3|     52|2016-09-22 15:30:09|\n",
            "|   3|2382556|2016-10-06 10:49:45|\n",
            "|   3|2382556|2016-10-07 08:50:23|\n",
            "|   3|1079020|2016-10-07 23:37:56|\n",
            "|   3|1204190|2016-10-09 01:56:24|\n",
            "|   3|7854140|2016-10-09 03:36:13|\n",
            "|   3| 567957|2016-10-29 09:28:07|\n",
            "|   4| 122744|2012-12-03 03:35:53|\n",
            "|   4| 125527|2012-12-10 10:27:55|\n",
            "|   4| 125527|2012-12-15 05:51:12|\n",
            "|   4| 125755|2013-01-04 10:20:36|\n",
            "|   4| 968271|2014-02-04 06:51:33|\n",
            "|   4| 187560|2015-06-17 09:23:30|\n",
            "|   4|9271982|2016-03-03 12:45:57|\n",
            "+----+-------+-------------------+\n",
            "only showing top 20 rows\n",
            "\n"
          ]
        }
      ],
      "source": [
        "# Users' friends\n",
        "user_friends = spark.sql('SELECT user1 AS user, user2 AS friend, datetime\\\n",
        "                          FROM (SELECT user1, user2, datetime FROM df_venmo\\\n",
        "                                UNION\\\n",
        "                                SELECT user2, user1, datetime FROM df_venmo)\\\n",
        "                          ORDER BY user, datetime')\n",
        "\n",
        "user_friends.show()\n",
        "\n",
        "user_friends.createOrReplaceTempView('user_friends')"
      ]
    },
    {
      "cell_type": "code",
      "execution_count": 10,
      "metadata": {
        "colab": {
          "base_uri": "https://localhost:8080/"
        },
        "id": "QhGmrM9cMNLM",
        "outputId": "a5e45537-aee8-4aca-dd7c-251a8f4ef821"
      },
      "outputs": [
        {
          "name": "stdout",
          "output_type": "stream",
          "text": [
            "+--------------------+\n",
            "|count(DISTINCT user)|\n",
            "+--------------------+\n",
            "|             3018657|\n",
            "+--------------------+\n",
            "\n"
          ]
        }
      ],
      "source": [
        "# Total number of users\n",
        "spark.sql('SELECT COUNT(DISTINCT user)\\\n",
        "           FROM user_friends').show()"
      ]
    },
    {
      "cell_type": "code",
      "execution_count": 12,
      "metadata": {
        "colab": {
          "base_uri": "https://localhost:8080/"
        },
        "id": "cDSmU-rqc23w",
        "outputId": "efe02460-ed86-484e-eb11-ee9568335fb9"
      },
      "outputs": [
        {
          "name": "stdout",
          "output_type": "stream",
          "text": [
            "+----+------+----------------+\n",
            "|user|friend|friend_of_friend|\n",
            "+----+------+----------------+\n",
            "|   2|    43|               3|\n",
            "|   2|    43|           20639|\n",
            "|   2|    43|              19|\n",
            "|   2|    43|           82697|\n",
            "|   2|    43|          316862|\n",
            "|   2|    43|          316862|\n",
            "|   2|    43|           47104|\n",
            "|   2|    43|           47104|\n",
            "|   2|    43|              96|\n",
            "|   2|    43|           47104|\n",
            "|   2|    43|             629|\n",
            "|   2|    43|              96|\n",
            "|   2|    43|           47104|\n",
            "|   2|    43|              10|\n",
            "|   2|    43|           47104|\n",
            "|   2|    43|           55895|\n",
            "|   2|    43|          307603|\n",
            "|   2|    43|           49778|\n",
            "|   2|    43|          297967|\n",
            "|   2|    43|            3565|\n",
            "+----+------+----------------+\n",
            "only showing top 20 rows\n",
            "\n"
          ]
        }
      ],
      "source": [
        "# Users' friends of friends\n",
        "user_fof = spark.sql('SELECT t1.user, t1.friend, t2.friend AS friend_of_friend\\\n",
        "                      FROM user_friends AS t1 INNER JOIN user_friends AS t2 ON t1.friend = t2.user\\\n",
        "                      WHERE t1.user <> t2.friend\\\n",
        "                      ORDER BY t1.user')\n",
        "\n",
        "user_fof.show()\n",
        "\n",
        "user_fof.createOrReplaceTempView('user_fof')"
      ]
    },
    {
      "cell_type": "markdown",
      "metadata": {
        "id": "dwF6-zHBsaTl"
      },
      "source": [
        "**Task_6: Now, that we have the list of each user’s friends and friends of friends, we are in position to calculate many social network variables. Use the dynamic analysis from before, and calculate the following social network metrics across a user’s lifetime in Venmo (from 0 up to 12 months).**\n",
        "\n",
        "1. Number of friends and number of friends of friends"
      ]
    },
    {
      "cell_type": "code",
      "execution_count": 13,
      "metadata": {
        "colab": {
          "base_uri": "https://localhost:8080/"
        },
        "id": "8Nm3OAuXwlX8",
        "outputId": "4dcfbcd8-99f9-4b37-8ba0-ef3c2f0f047e"
      },
      "outputs": [
        {
          "name": "stdout",
          "output_type": "stream",
          "text": [
            "+----+-------------------+\n",
            "|user|         datetime_0|\n",
            "+----+-------------------+\n",
            "|   2|2012-11-23 06:03:42|\n",
            "|   3|2016-06-27 01:14:37|\n",
            "|   4|2012-12-03 03:35:53|\n",
            "|   6|2014-06-28 00:18:16|\n",
            "|   8|2015-08-11 02:08:47|\n",
            "|   9|2012-06-28 04:28:32|\n",
            "|  10|2012-11-25 09:20:39|\n",
            "|  11|2012-05-15 22:08:58|\n",
            "|  12|2012-09-01 03:40:16|\n",
            "|  13|2012-09-28 06:11:39|\n",
            "|  16|2014-07-12 04:20:53|\n",
            "|  18|2016-02-21 07:17:22|\n",
            "|  19|2012-05-26 02:19:04|\n",
            "|  24|2013-12-20 10:31:39|\n",
            "|  28|2014-05-22 11:25:51|\n",
            "|  29|2014-04-25 23:37:38|\n",
            "|  31|2013-05-19 11:19:15|\n",
            "|  32|2012-11-07 01:29:50|\n",
            "|  34|2014-07-21 23:31:20|\n",
            "|  42|2012-08-25 00:30:23|\n",
            "+----+-------------------+\n",
            "only showing top 20 rows\n",
            "\n"
          ]
        }
      ],
      "source": [
        "# Find users' first transaction dates\n",
        "user_tran_0 = spark.sql('SELECT user, MIN(datetime) AS datetime_0\\\n",
        "                         FROM user_friends\\\n",
        "                         GROUP BY user\\\n",
        "                         ORDER BY user')\n",
        "\n",
        "user_tran_0.show()\n",
        "\n",
        "user_tran_0.createOrReplaceTempView('user_tran_0')"
      ]
    },
    {
      "cell_type": "code",
      "execution_count": 14,
      "metadata": {
        "colab": {
          "base_uri": "https://localhost:8080/"
        },
        "id": "7nxbjZ-57Ecu",
        "outputId": "2d59a98d-aaab-47ad-d66e-9c898593c18d"
      },
      "outputs": [
        {
          "name": "stdout",
          "output_type": "stream",
          "text": [
            "+----+-------+-------------------+-------------------+------------------+\n",
            "|user| friend|           datetime|         datetime_0|lifetime_indicator|\n",
            "+----+-------+-------------------+-------------------+------------------+\n",
            "|   2|    220|2012-11-23 06:03:42|2012-11-23 06:03:42|                 0|\n",
            "|   2|     43|2016-04-09 09:29:31|2012-11-23 06:03:42|                41|\n",
            "|   2|     43|2016-09-07 07:53:16|2012-11-23 06:03:42|                46|\n",
            "|   2| 191142|2016-09-26 09:56:55|2012-11-23 06:03:42|                47|\n",
            "|   3|     43|2016-06-27 01:14:37|2016-06-27 01:14:37|                 0|\n",
            "|   3| 263437|2016-07-22 21:16:37|2016-06-27 01:14:37|                 1|\n",
            "|   3|     52|2016-09-22 15:30:09|2016-06-27 01:14:37|                 3|\n",
            "|   3|2382556|2016-10-06 10:49:45|2016-06-27 01:14:37|                 4|\n",
            "|   3|2382556|2016-10-07 08:50:23|2016-06-27 01:14:37|                 4|\n",
            "|   3|1079020|2016-10-07 23:37:56|2016-06-27 01:14:37|                 4|\n",
            "|   3|1204190|2016-10-09 01:56:24|2016-06-27 01:14:37|                 4|\n",
            "|   3|7854140|2016-10-09 03:36:13|2016-06-27 01:14:37|                 4|\n",
            "|   3| 567957|2016-10-29 09:28:07|2016-06-27 01:14:37|                 5|\n",
            "|   4| 122744|2012-12-03 03:35:53|2012-12-03 03:35:53|                 0|\n",
            "|   4| 125527|2012-12-10 10:27:55|2012-12-03 03:35:53|                 1|\n",
            "|   4| 125527|2012-12-15 05:51:12|2012-12-03 03:35:53|                 1|\n",
            "|   4| 125755|2013-01-04 10:20:36|2012-12-03 03:35:53|                 2|\n",
            "|   4| 968271|2014-02-04 06:51:33|2012-12-03 03:35:53|                15|\n",
            "|   4| 187560|2015-06-17 09:23:30|2012-12-03 03:35:53|                31|\n",
            "|   4|9271982|2016-03-03 12:45:57|2012-12-03 03:35:53|                39|\n",
            "+----+-------+-------------------+-------------------+------------------+\n",
            "only showing top 20 rows\n",
            "\n"
          ]
        }
      ],
      "source": [
        "# Assign lifetime_indicator to each transaction\n",
        "user_trans = spark.sql('SELECT user_friends.user, user_friends.friend, datetime, datetime_0, ceil(months_between(datetime, datetime_0)) AS lifetime_indicator\\\n",
        "                        FROM user_friends INNER JOIN user_tran_0 ON user_friends.user = user_tran_0.user\\\n",
        "                        ORDER BY user_friends.user, datetime')\n",
        "\n",
        "user_trans.show()\n",
        "\n",
        "user_trans.createOrReplaceTempView('user_trans')"
      ]
    },
    {
      "cell_type": "code",
      "execution_count": 15,
      "metadata": {
        "colab": {
          "base_uri": "https://localhost:8080/"
        },
        "id": "kxE-dnnjHbmt",
        "outputId": "94bdfa3a-b9c2-42d9-a562-f8ae5c627f23"
      },
      "outputs": [
        {
          "name": "stdout",
          "output_type": "stream",
          "text": [
            "+----+-------+-------------------+-------------------+------------------+\n",
            "|user| friend|           datetime|         datetime_0|lifetime_indicator|\n",
            "+----+-------+-------------------+-------------------+------------------+\n",
            "|   2|    220|2012-11-23 06:03:42|2012-11-23 06:03:42|                 0|\n",
            "|   3|     43|2016-06-27 01:14:37|2016-06-27 01:14:37|                 0|\n",
            "|   3| 263437|2016-07-22 21:16:37|2016-06-27 01:14:37|                 1|\n",
            "|   3|     52|2016-09-22 15:30:09|2016-06-27 01:14:37|                 3|\n",
            "|   3|1204190|2016-10-09 01:56:24|2016-06-27 01:14:37|                 4|\n",
            "|   3|7854140|2016-10-09 03:36:13|2016-06-27 01:14:37|                 4|\n",
            "|   3|2382556|2016-10-06 10:49:45|2016-06-27 01:14:37|                 4|\n",
            "|   3|1079020|2016-10-07 23:37:56|2016-06-27 01:14:37|                 4|\n",
            "|   3|2382556|2016-10-07 08:50:23|2016-06-27 01:14:37|                 4|\n",
            "|   3| 567957|2016-10-29 09:28:07|2016-06-27 01:14:37|                 5|\n",
            "|   4| 122744|2012-12-03 03:35:53|2012-12-03 03:35:53|                 0|\n",
            "|   4| 125527|2012-12-10 10:27:55|2012-12-03 03:35:53|                 1|\n",
            "|   4| 125527|2012-12-15 05:51:12|2012-12-03 03:35:53|                 1|\n",
            "|   4| 125755|2013-01-04 10:20:36|2012-12-03 03:35:53|                 2|\n",
            "|   6| 676003|2014-06-28 00:18:16|2014-06-28 00:18:16|                 0|\n",
            "|   6|4330489|2015-04-14 04:34:23|2014-06-28 00:18:16|                10|\n",
            "|   8| 900433|2015-08-11 02:08:47|2015-08-11 02:08:47|                 0|\n",
            "|   8| 900433|2015-09-20 10:49:54|2015-08-11 02:08:47|                 2|\n",
            "|   8| 659067|2016-02-10 11:55:25|2015-08-11 02:08:47|                 6|\n",
            "|   8| 900433|2016-03-02 07:35:34|2015-08-11 02:08:47|                 7|\n",
            "+----+-------+-------------------+-------------------+------------------+\n",
            "only showing top 20 rows\n",
            "\n"
          ]
        }
      ],
      "source": [
        "# Keep the transactions with a lifetime_indicator <= 12\n",
        "user_trans = spark.sql('SELECT *\\\n",
        "                        FROM user_trans\\\n",
        "                        WHERE lifetime_indicator <= 12\\\n",
        "                        ORDER BY user, lifetime_indicator')\n",
        "\n",
        "user_trans.show()\n",
        "\n",
        "user_trans.createOrReplaceTempView('user_trans')"
      ]
    },
    {
      "cell_type": "code",
      "execution_count": 16,
      "metadata": {
        "colab": {
          "base_uri": "https://localhost:8080/"
        },
        "id": "7QNg3D4nHEsC",
        "outputId": "aa428f86-05f7-4842-e0b8-d3a6336c464d"
      },
      "outputs": [
        {
          "name": "stdout",
          "output_type": "stream",
          "text": [
            "+----+------------+------------------+\n",
            "|user|friend_count|lifetime_indicator|\n",
            "+----+------------+------------------+\n",
            "|   2|           1|                 0|\n",
            "|   3|           1|                 0|\n",
            "|   3|           1|                 1|\n",
            "|   3|           1|                 3|\n",
            "|   3|           4|                 4|\n",
            "|   3|           1|                 5|\n",
            "|   4|           1|                 0|\n",
            "|   4|           1|                 1|\n",
            "|   4|           1|                 2|\n",
            "|   6|           1|                 0|\n",
            "|   6|           1|                10|\n",
            "|   8|           1|                 0|\n",
            "|   8|           1|                 2|\n",
            "|   8|           1|                 6|\n",
            "|   8|           1|                 7|\n",
            "|   8|           1|                 9|\n",
            "|   8|           1|                10|\n",
            "|   9|           1|                 0|\n",
            "|   9|           1|                 2|\n",
            "|   9|           1|                 5|\n",
            "+----+------------+------------------+\n",
            "only showing top 20 rows\n",
            "\n"
          ]
        }
      ],
      "source": [
        "# Find number of friends using dynamic metrics\n",
        "user_dynamic_friends = spark.sql('SELECT user, COUNT(DISTINCT friend) AS friend_count, lifetime_indicator\\\n",
        "                                  FROM user_trans\\\n",
        "                                  GROUP BY user, lifetime_indicator\\\n",
        "                                  ORDER BY user, lifetime_indicator')\n",
        "\n",
        "user_dynamic_friends.show()\n",
        "\n",
        "user_dynamic_friends.createOrReplaceTempView('user_dynamic_friends')"
      ]
    },
    {
      "cell_type": "code",
      "execution_count": 17,
      "metadata": {
        "colab": {
          "base_uri": "https://localhost:8080/"
        },
        "id": "vSu9iXJTC1wv",
        "outputId": "07829c70-9311-42c3-abfa-966d98dd748e"
      },
      "outputs": [
        {
          "name": "stdout",
          "output_type": "stream",
          "text": [
            "+----+------------------+------------+\n",
            "|user|lifetime_indicator|friend_count|\n",
            "+----+------------------+------------+\n",
            "|   2|                 0|           1|\n",
            "|   2|                 1|           0|\n",
            "|   2|                 2|           0|\n",
            "|   2|                 3|           0|\n",
            "|   2|                 4|           0|\n",
            "|   2|                 5|           0|\n",
            "|   2|                 6|           0|\n",
            "|   2|                 7|           0|\n",
            "|   2|                 8|           0|\n",
            "|   2|                 9|           0|\n",
            "|   2|                10|           0|\n",
            "|   2|                11|           0|\n",
            "|   2|                12|           0|\n",
            "|   3|                 0|           1|\n",
            "|   3|                 1|           1|\n",
            "|   3|                 2|           0|\n",
            "|   3|                 3|           1|\n",
            "|   3|                 4|           4|\n",
            "|   3|                 5|           1|\n",
            "|   3|                 6|           0|\n",
            "+----+------------------+------------+\n",
            "only showing top 20 rows\n",
            "\n"
          ]
        }
      ],
      "source": [
        "# Add all months to the table\n",
        "period = [0, 1, 2, 3, 4, 5, 6, 7, 8, 9, 10, 11, 12]\n",
        "user_trans_period = user_tran_0.withColumn('period', F.array([F.lit(x) for x in period]))\n",
        "user_trans_period = user_trans_period.withColumn('period', F.explode(col('period')))\n",
        "\n",
        "user_trans_period.createOrReplaceTempView('user_trans_period')\n",
        "\n",
        "user_dynamic_friends = spark.sql('SELECT user, lifetime_indicator, SUM(friend_count) AS friend_count\\\n",
        "                                  FROM (SELECT user, lifetime_indicator, friend_count FROM user_dynamic_friends\\\n",
        "                                        UNION\\\n",
        "                                        SELECT user, period, 0 FROM user_trans_period)\\\n",
        "                                  GROUP BY user, lifetime_indicator\\\n",
        "                                  ORDER BY user, lifetime_indicator')\n",
        "\n",
        "user_dynamic_friends.show()\n",
        "\n",
        "user_dynamic_friends.createOrReplaceTempView('user_dynamic_friends')"
      ]
    },
    {
      "cell_type": "code",
      "execution_count": 18,
      "metadata": {
        "colab": {
          "base_uri": "https://localhost:8080/"
        },
        "id": "pydVlu0Rhf4l",
        "outputId": "27a0e411-44b4-4a7c-ceb5-d7ec9269b940"
      },
      "outputs": [
        {
          "name": "stdout",
          "output_type": "stream",
          "text": [
            "+----+------------------+------------+----------------+\n",
            "|user|lifetime_indicator|friend_count|cum_friend_count|\n",
            "+----+------------------+------------+----------------+\n",
            "|   2|                 0|           1|               1|\n",
            "|   2|                 1|           0|               1|\n",
            "|   2|                 2|           0|               1|\n",
            "|   2|                 3|           0|               1|\n",
            "|   2|                 4|           0|               1|\n",
            "|   2|                 5|           0|               1|\n",
            "|   2|                 6|           0|               1|\n",
            "|   2|                 7|           0|               1|\n",
            "|   2|                 8|           0|               1|\n",
            "|   2|                 9|           0|               1|\n",
            "|   2|                10|           0|               1|\n",
            "|   2|                11|           0|               1|\n",
            "|   2|                12|           0|               1|\n",
            "|   3|                 0|           1|               1|\n",
            "|   3|                 1|           1|               2|\n",
            "|   3|                 2|           0|               2|\n",
            "|   3|                 3|           1|               3|\n",
            "|   3|                 4|           4|               7|\n",
            "|   3|                 5|           1|               8|\n",
            "|   3|                 6|           0|               8|\n",
            "+----+------------------+------------+----------------+\n",
            "only showing top 20 rows\n",
            "\n"
          ]
        }
      ],
      "source": [
        "# Add cum friend count\n",
        "user_dynamic_friends = spark.sql('SELECT user, lifetime_indicator, friend_count, SUM(friend_count) OVER (PARTITION BY user ORDER BY lifetime_indicator) AS cum_friend_count\\\n",
        "                                  FROM user_dynamic_friends\\\n",
        "                                  ORDER BY user, lifetime_indicator')\n",
        "\n",
        "user_dynamic_friends.show()\n",
        "\n",
        "user_dynamic_friends.createOrReplaceTempView('user_dynamic_friends')"
      ]
    },
    {
      "cell_type": "code",
      "execution_count": 46,
      "metadata": {
        "colab": {
          "base_uri": "https://localhost:8080/"
        },
        "id": "tXvgB9qbaGiA",
        "outputId": "701a1e22-772d-4441-fa85-a15a0a48a487"
      },
      "outputs": [
        {
          "name": "stdout",
          "output_type": "stream",
          "text": [
            "+----+------+-------------------+------------------+----------------+-------------------+\n",
            "|user|friend|    datetime_friend|lifetime_indicator|friend_of_friend|       datetime_fof|\n",
            "+----+------+-------------------+------------------+----------------+-------------------+\n",
            "|   3|    43|2016-06-27 01:14:37|                 0|           47104|2013-03-26 11:18:15|\n",
            "|   3|    43|2016-06-27 01:14:37|                 0|           47104|2012-06-20 19:06:21|\n",
            "|   3|    43|2016-06-27 01:14:37|                 0|           47104|2012-11-29 01:43:46|\n",
            "|   3|    43|2016-06-27 01:14:37|                 0|              10|2012-12-31 12:44:12|\n",
            "|   3|    43|2016-06-27 01:14:37|                 0|              10|2013-01-01 02:26:16|\n",
            "|   3|    43|2016-06-27 01:14:37|                 0|           47104|2012-05-30 08:29:25|\n",
            "|   3|    43|2016-06-27 01:14:37|                 0|           47104|2013-03-31 05:24:37|\n",
            "|   3|    43|2016-06-27 01:14:37|                 0|           49778|2013-03-07 07:46:55|\n",
            "|   3|    43|2016-06-27 01:14:37|                 0|              19|2012-05-26 02:19:04|\n",
            "|   3|    43|2016-06-27 01:14:37|                 0|           55895|2012-07-23 02:56:28|\n",
            "|   3|    43|2016-06-27 01:14:37|                 0|           47104|2012-09-15 09:11:57|\n",
            "|   3|    43|2016-06-27 01:14:37|                 0|           49778|2013-01-08 09:39:09|\n",
            "|   3|    43|2016-06-27 01:14:37|                 0|              10|2013-03-03 12:47:10|\n",
            "|   3|    43|2016-06-27 01:14:37|                 0|           49778|2012-11-04 01:09:39|\n",
            "|   3|    43|2016-06-27 01:14:37|                 0|              10|2012-12-23 11:08:45|\n",
            "|   3|    43|2016-06-27 01:14:37|                 0|           47104|2012-07-18 23:45:43|\n",
            "|   3|    43|2016-06-27 01:14:37|                 0|           49778|2013-01-03 01:05:06|\n",
            "|   3|    43|2016-06-27 01:14:37|                 0|           20530|2012-04-14 03:02:51|\n",
            "|   3|263437|2016-07-22 21:16:37|                 1|          263468|2014-01-16 14:31:13|\n",
            "|   3|263437|2016-07-22 21:16:37|                 1|          263468|2014-01-09 10:45:53|\n",
            "+----+------+-------------------+------------------+----------------+-------------------+\n",
            "only showing top 20 rows\n",
            "\n"
          ]
        }
      ],
      "source": [
        "# Find friends of friends\n",
        "user_dynamic_fof_details = spark.sql('SELECT t1.user, t1.friend, t1.datetime AS datetime_friend, t1.lifetime_indicator, t2.friend AS friend_of_friend, t2.datetime as datetime_fof\\\n",
        "                                      FROM user_trans AS t1 INNER JOIN user_trans AS t2 ON t1.friend = t2.user AND t1.user <> t2.friend AND t1.datetime > t2.datetime\\\n",
        "                                      ORDER BY t1.user, t1.lifetime_indicator')\n",
        "\n",
        "user_dynamic_fof_details.show()\n",
        "\n",
        "user_dynamic_fof_details.createOrReplaceTempView('user_dynamic_fof_details')"
      ]
    },
    {
      "cell_type": "code",
      "execution_count": 62,
      "metadata": {
        "colab": {
          "base_uri": "https://localhost:8080/"
        },
        "id": "tyoNWCTPOEyd",
        "outputId": "83d720c4-b655-4274-9435-15f73da89d8e"
      },
      "outputs": [
        {
          "name": "stdout",
          "output_type": "stream",
          "text": [
            "+----+------------------+---------+\n",
            "|user|lifetime_indicator|fof_count|\n",
            "+----+------------------+---------+\n",
            "|   2|                 0|        0|\n",
            "|   2|                 1|        0|\n",
            "|   2|                 2|        0|\n",
            "|   2|                 3|        0|\n",
            "|   2|                 4|        0|\n",
            "|   2|                 5|        0|\n",
            "|   2|                 6|        0|\n",
            "|   2|                 7|        0|\n",
            "|   2|                 8|        0|\n",
            "|   2|                 9|        0|\n",
            "|   2|                10|        0|\n",
            "|   2|                11|        0|\n",
            "|   2|                12|        0|\n",
            "|   3|                 0|        6|\n",
            "|   3|                 1|        8|\n",
            "|   3|                 2|        0|\n",
            "|   3|                 3|        1|\n",
            "|   3|                 4|        6|\n",
            "|   3|                 5|        8|\n",
            "|   3|                 6|        0|\n",
            "+----+------------------+---------+\n",
            "only showing top 20 rows\n",
            "\n"
          ]
        }
      ],
      "source": [
        "# Find number of friends of friends using dynamic metrics\n",
        "user_dynamic_fof = spark.sql('SELECT user, lifetime_indicator, SUM(fof_count) AS fof_count\\\n",
        "                              FROM (SELECT user, lifetime_indicator, COUNT(DISTINCT friend_of_friend) AS fof_count\\\n",
        "                                    FROM user_dynamic_fof_details\\\n",
        "                                    GROUP BY user, lifetime_indicator\\\n",
        "                                    UNION\\\n",
        "                                    SELECT user, period, 0 FROM user_trans_period)\\\n",
        "                              GROUP BY user, lifetime_indicator\\\n",
        "                              ORDER BY user, lifetime_indicator')\n",
        "\n",
        "user_dynamic_fof.show()\n",
        "\n",
        "user_dynamic_fof.createOrReplaceTempView('user_dynamic_fof')"
      ]
    },
    {
      "cell_type": "code",
      "execution_count": 63,
      "metadata": {
        "colab": {
          "base_uri": "https://localhost:8080/"
        },
        "id": "WQ3pWVFj7li_",
        "outputId": "1586cf3d-c6bc-40ff-9748-f8ed4e7ff204"
      },
      "outputs": [
        {
          "name": "stdout",
          "output_type": "stream",
          "text": [
            "+----+------------------+---------+-------------+\n",
            "|user|lifetime_indicator|fof_count|cum_fof_count|\n",
            "+----+------------------+---------+-------------+\n",
            "|   2|                 0|        0|            0|\n",
            "|   2|                 1|        0|            0|\n",
            "|   2|                 2|        0|            0|\n",
            "|   2|                 3|        0|            0|\n",
            "|   2|                 4|        0|            0|\n",
            "|   2|                 5|        0|            0|\n",
            "|   2|                 6|        0|            0|\n",
            "|   2|                 7|        0|            0|\n",
            "|   2|                 8|        0|            0|\n",
            "|   2|                 9|        0|            0|\n",
            "|   2|                10|        0|            0|\n",
            "|   2|                11|        0|            0|\n",
            "|   2|                12|        0|            0|\n",
            "|   3|                 0|        6|            6|\n",
            "|   3|                 1|        8|           14|\n",
            "|   3|                 2|        0|           14|\n",
            "|   3|                 3|        1|           15|\n",
            "|   3|                 4|        6|           21|\n",
            "|   3|                 5|        8|           29|\n",
            "|   3|                 6|        0|           29|\n",
            "+----+------------------+---------+-------------+\n",
            "only showing top 20 rows\n",
            "\n"
          ]
        }
      ],
      "source": [
        "# Add cum number of friends of friends\n",
        "user_dynamic_fof_cum = spark.sql('SELECT *, SUM(fof_count) OVER (PARTITION BY user ORDER BY lifetime_indicator) AS cum_fof_count\\\n",
        "                              FROM user_dynamic_fof\\\n",
        "                              ORDER BY user, lifetime_indicator')\n",
        "user_dynamic_fof_cum.show()\n",
        "user_dynamic_fof_cum.createOrReplaceTempView('user_dynamic_fof_cum')"
      ]
    },
    {
      "cell_type": "markdown",
      "metadata": {
        "id": "_Clw2zL9sQQS"
      },
      "source": [
        "2. Clustering coefficient of a user's network"
      ]
    },
    {
      "cell_type": "code",
      "execution_count": 16,
      "metadata": {
        "colab": {
          "base_uri": "https://localhost:8080/"
        },
        "id": "LXlxj0QKZYRG",
        "outputId": "aee1f298-6b0c-49d4-999b-410007d57ea5"
      },
      "outputs": [
        {
          "name": "stdout",
          "output_type": "stream",
          "text": [
            "+----+------------------+------------+----------------+-----+\n",
            "|user|lifetime_indicator|friend_count|cum_friend_count|edges|\n",
            "+----+------------------+------------+----------------+-----+\n",
            "|2866|                 0|           1|               1|  0.0|\n",
            "|2866|                 1|           0|               1|  0.0|\n",
            "|2866|                 2|           0|               1|  0.0|\n",
            "|2866|                 3|           0|               1|  0.0|\n",
            "|2866|                 4|           0|               1|  0.0|\n",
            "|2866|                 5|           0|               1|  0.0|\n",
            "|2866|                 6|           0|               1|  0.0|\n",
            "|2866|                 7|           0|               1|  0.0|\n",
            "|2866|                 8|           0|               1|  0.0|\n",
            "|2866|                 9|           0|               1|  0.0|\n",
            "|2866|                10|           0|               1|  0.0|\n",
            "|2866|                11|           0|               1|  0.0|\n",
            "|2866|                12|           0|               1|  0.0|\n",
            "|3918|                 0|           1|               1|  0.0|\n",
            "|3918|                 1|           0|               1|  0.0|\n",
            "|3918|                 2|           0|               1|  0.0|\n",
            "|3918|                 3|           0|               1|  0.0|\n",
            "|3918|                 4|           0|               1|  0.0|\n",
            "|3918|                 5|           0|               1|  0.0|\n",
            "|3918|                 6|           0|               1|  0.0|\n",
            "|3918|                 7|           0|               1|  0.0|\n",
            "|3918|                 8|           0|               1|  0.0|\n",
            "|3918|                 9|           0|               1|  0.0|\n",
            "|3918|                10|           0|               1|  0.0|\n",
            "|3918|                11|           0|               1|  0.0|\n",
            "|3918|                12|           0|               1|  0.0|\n",
            "|4935|                 0|           1|               1|  0.0|\n",
            "|4935|                 1|           0|               1|  0.0|\n",
            "|4935|                 2|           0|               1|  0.0|\n",
            "|4935|                 3|           0|               1|  0.0|\n",
            "|4935|                 4|           0|               1|  0.0|\n",
            "|4935|                 5|           0|               1|  0.0|\n",
            "|4935|                 6|           0|               1|  0.0|\n",
            "|4935|                 7|           0|               1|  0.0|\n",
            "|4935|                 8|           0|               1|  0.0|\n",
            "|4935|                 9|           0|               1|  0.0|\n",
            "|4935|                10|           0|               1|  0.0|\n",
            "|4935|                11|           0|               1|  0.0|\n",
            "|4935|                12|           0|               1|  0.0|\n",
            "|5300|                 0|           1|               1|  0.0|\n",
            "|5300|                 1|           0|               1|  0.0|\n",
            "|5300|                 2|           0|               1|  0.0|\n",
            "|5300|                 3|           0|               1|  0.0|\n",
            "|5300|                 4|           1|               2|  1.0|\n",
            "|5300|                 5|           0|               2|  1.0|\n",
            "|5300|                 6|           2|               4|  6.0|\n",
            "|5300|                 7|           0|               4|  6.0|\n",
            "|5300|                 8|           0|               4|  6.0|\n",
            "|5300|                 9|           0|               4|  6.0|\n",
            "|5300|                10|           0|               4|  6.0|\n",
            "+----+------------------+------------+----------------+-----+\n",
            "only showing top 50 rows\n",
            "\n"
          ]
        }
      ],
      "source": [
        "user_dynamic_edges = spark.sql('SELECT *, (cum_friend_count * (cum_friend_count - 1)) / 2 AS edges\\\n",
        "                                FROM user_dynamic_friends')\n",
        "\n",
        "user_dynamic_edges.show(50)\n",
        "\n",
        "user_dynamic_edges.createOrReplaceTempView('user_dynamic_edges')"
      ]
    },
    {
      "cell_type": "code",
      "execution_count": 47,
      "metadata": {
        "colab": {
          "base_uri": "https://localhost:8080/"
        },
        "id": "LT3v2IAFdzFW",
        "outputId": "30637567-f18a-4dbf-c75c-9c65dcbe8619"
      },
      "outputs": [
        {
          "name": "stdout",
          "output_type": "stream",
          "text": [
            "+-----+------------------+------+----------------+\n",
            "| user|lifetime_indicator|friend|friend_of_friend|\n",
            "+-----+------------------+------+----------------+\n",
            "|52805|                10| 59891|          124198|\n",
            "|52805|                10| 59891|          124198|\n",
            "|52805|                10| 59891|          124198|\n",
            "|52805|                10| 59891|          124198|\n",
            "|52805|                10| 59891|          124198|\n",
            "|52805|                10| 59891|          124198|\n",
            "|52805|                10| 59891|          124198|\n",
            "|52805|                10| 59891|          124198|\n",
            "|54032|                12|854731|         2275553|\n",
            "|54032|                12|854731|         2275553|\n",
            "|54032|                12|854731|         2275553|\n",
            "|54032|                12|854731|         2275553|\n",
            "|63348|                 6|134481|           87240|\n",
            "|63348|                 6|134481|           87240|\n",
            "|67259|                10|145279|           57236|\n",
            "|67259|                10|145279|           57236|\n",
            "|67259|                12|145279|           57236|\n",
            "|67259|                12|145279|           57236|\n",
            "|67259|                12|413573|           57236|\n",
            "|67259|                12|413573|           57236|\n",
            "+-----+------------------+------+----------------+\n",
            "only showing top 20 rows\n",
            "\n"
          ]
        }
      ],
      "source": [
        "temp_1 = spark.sql('SELECT t2.user, t2.lifetime_indicator, t2.friend, t2.friend_of_friend\\\n",
        "                    FROM user_dynamic_fof_details AS t1 INNER JOIN user_dynamic_fof_details AS t2 ON t1.user = t2.user AND t1.friend = t2.friend_of_friend')\n",
        "\n",
        "temp_1.show()\n",
        "\n",
        "temp_1.createOrReplaceTempView('temp_1')"
      ]
    },
    {
      "cell_type": "code",
      "execution_count": 49,
      "metadata": {
        "colab": {
          "base_uri": "https://localhost:8080/"
        },
        "id": "5AqoQPa9m8O4",
        "outputId": "0e5f585b-0e4b-4efd-bcab-ae2047bc72b3"
      },
      "outputs": [
        {
          "name": "stdout",
          "output_type": "stream",
          "text": [
            "+----+------------------+-----------------+-----------------+\n",
            "|user|lifetime_indicator|               C1|               C2|\n",
            "+----+------------------+-----------------+-----------------+\n",
            "|  16|                 1|     161079065747|     167471079065|\n",
            "|  89|                 2| 8951973471340705| 8913407055197347|\n",
            "|  89|                 4| 8951973471340705| 8913407055197347|\n",
            "| 112|                 8|      11212135778|      11213577812|\n",
            "| 112|                 8|      11213577812|      11212135778|\n",
            "| 224|                 4|22431616822223424|22422234243161682|\n",
            "| 224|                 6|22422234243161682|22431616822223424|\n",
            "| 322|                 7| 3222222652411317| 3224113172222652|\n",
            "| 322|                12| 3224113172222652| 3222222652411317|\n",
            "| 361|                 0|36128923093971076|36139710762892309|\n",
            "| 361|                 1|36128923093971076|36139710762892309|\n",
            "| 361|                 5|36139710761672387|36116723873971076|\n",
            "| 361|                 5|36139710762892309|36128923093971076|\n",
            "| 361|                 9|36116723873971076|36139710761672387|\n",
            "| 759|                 5|75978629525530964|75955309647862952|\n",
            "| 777|                 0|  777518390658826|  777658826518390|\n",
            "| 777|                 2|  777658826518390|  777518390658826|\n",
            "| 946|                11|94619652992306253|94623062531965299|\n",
            "| 946|                11|94623062531965299|94619652992306253|\n",
            "|1224|                 8| 1224674585302153| 1224302153674585|\n",
            "+----+------------------+-----------------+-----------------+\n",
            "only showing top 20 rows\n",
            "\n"
          ]
        }
      ],
      "source": [
        "temp_2 = spark.sql(\"SELECT DISTINCT user, lifetime_indicator, CONCAT(user,friend,friend_of_friend) AS C1, CONCAT(user,friend_of_friend,friend) AS C2 FROM temp_1\\\n",
        "                    ORDER BY 1,2 \")\n",
        "temp_2.show()\n",
        "temp_2.createOrReplaceTempView(\"temp_2\")"
      ]
    },
    {
      "cell_type": "code",
      "execution_count": 50,
      "metadata": {
        "colab": {
          "base_uri": "https://localhost:8080/"
        },
        "id": "7gkhffz0pdgT",
        "outputId": "55cd0a11-ca05-42ee-e188-e755f8b5e172"
      },
      "outputs": [
        {
          "name": "stdout",
          "output_type": "stream",
          "text": [
            "+--------+------------------+--------------------+--------------------+----+\n",
            "|    user|lifetime_indicator|                  C1|                  C2|r_id|\n",
            "+--------+------------------+--------------------+--------------------+----+\n",
            "|10000123|                 0|10000123149578779...|10000123791866149...|   1|\n",
            "|10000128|                 3|10000128431263447...|10000128471913943...|   2|\n",
            "|10000128|                 0|10000128471913943...|10000128431263447...|   3|\n",
            "|10000128|                 3|10000128471913943...|10000128431263447...|   4|\n",
            "|10000128|                 4|10000128471913943...|10000128431263447...|   5|\n",
            "| 1000013|                12|10000131000058101...|10000131016562100...|   6|\n",
            "| 1000013|                12|10000131000058882320|10000138823201000058|   7|\n",
            "| 1000013|                12|10000131016562100...|10000131000058101...|   8|\n",
            "| 1000013|                12|10000131016562882320|10000138823201016562|   9|\n",
            "| 1000013|                 4|10000138823201000058|10000131000058882320|  10|\n",
            "| 1000013|                12|10000138823201000058|10000131000058882320|  11|\n",
            "| 1000013|                12|10000138823201016562|10000131016562882320|  12|\n",
            "| 1000024|                11|10000241571549533515|10000245335151571549|  13|\n",
            "| 1000024|                12|10000241571549533515|10000245335151571549|  14|\n",
            "| 1000024|                12|10000242868592157...|10000241571549286...|  15|\n",
            "| 1000024|                 0|10000245335151571549|10000241571549533515|  16|\n",
            "| 1000024|                 3|10000245335151571549|10000241571549533515|  17|\n",
            "| 1000024|                12|10000245335151571549|10000241571549533515|  18|\n",
            "| 1000050|                 4|10000501250819125...|10000501251071125...|  19|\n",
            "| 1000050|                 9|10000501250819125...|10000501251071125...|  20|\n",
            "+--------+------------------+--------------------+--------------------+----+\n",
            "only showing top 20 rows\n",
            "\n"
          ]
        }
      ],
      "source": [
        "temp_3 = spark.sql(\"SELECT *, ROW_NUMBER() OVER (ORDER BY C1,C2) AS r_id FROM temp_2\")\n",
        "temp_3.show()\n",
        "temp_3.createOrReplaceTempView('temp_3')"
      ]
    },
    {
      "cell_type": "code",
      "execution_count": 51,
      "metadata": {
        "colab": {
          "base_uri": "https://localhost:8080/"
        },
        "id": "EV-tEVBCq_Sr",
        "outputId": "e253b631-d2fe-4e71-fa35-2161873b9264"
      },
      "outputs": [
        {
          "name": "stdout",
          "output_type": "stream",
          "text": [
            "+-------+\n",
            "|   r_id|\n",
            "+-------+\n",
            "|  54341|\n",
            "|2072080|\n",
            "|  96215|\n",
            "| 798389|\n",
            "|1071316|\n",
            "|1794879|\n",
            "| 413143|\n",
            "| 459641|\n",
            "| 461081|\n",
            "| 636152|\n",
            "| 636489|\n",
            "| 660968|\n",
            "| 660969|\n",
            "| 660974|\n",
            "| 660971|\n",
            "| 660981|\n",
            "| 660982|\n",
            "| 661008|\n",
            "| 673607|\n",
            "| 706965|\n",
            "+-------+\n",
            "only showing top 20 rows\n",
            "\n"
          ]
        }
      ],
      "source": [
        "temp_4 = spark.sql(\"SELECT t1.r_id FROM temp_3 t1 INNER JOIN temp_3 t2 ON t1.user=t2.user\\\n",
        "                     AND t1.lifetime_indicator=t2.lifetime_indicator\\\n",
        "                     AND t1.C1=t2.C2\\\n",
        "                     AND t1.C2 = t2.C1\\\n",
        "                     AND t1.r_id < t2.r_id\")\n",
        "temp_4.show()\n",
        "temp_4.createOrReplaceTempView('temp_4')"
      ]
    },
    {
      "cell_type": "code",
      "execution_count": 55,
      "metadata": {
        "colab": {
          "base_uri": "https://localhost:8080/"
        },
        "id": "MYsSi0xutF_b",
        "outputId": "d942f037-4999-4e7c-f481-1b36250c0043"
      },
      "outputs": [
        {
          "name": "stdout",
          "output_type": "stream",
          "text": [
            "+----+--------+------------------+--------------------+--------------------+\n",
            "|r_id|    user|lifetime_indicator|                  C1|                  C2|\n",
            "+----+--------+------------------+--------------------+--------------------+\n",
            "|   1|10000123|                 0|10000123149578779...|10000123791866149...|\n",
            "|   3|10000128|                 0|10000128471913943...|10000128431263447...|\n",
            "|   4|10000128|                 3|10000128471913943...|10000128431263447...|\n",
            "|   5|10000128|                 4|10000128471913943...|10000128431263447...|\n",
            "|   8| 1000013|                12|10000131016562100...|10000131000058101...|\n",
            "|  10| 1000013|                 4|10000138823201000058|10000131000058882320|\n",
            "|  11| 1000013|                12|10000138823201000058|10000131000058882320|\n",
            "|  12| 1000013|                12|10000138823201016562|10000131016562882320|\n",
            "|  13| 1000024|                11|10000241571549533515|10000245335151571549|\n",
            "|  15| 1000024|                12|10000242868592157...|10000241571549286...|\n",
            "|  16| 1000024|                 0|10000245335151571549|10000241571549533515|\n",
            "|  17| 1000024|                 3|10000245335151571549|10000241571549533515|\n",
            "|  18| 1000024|                12|10000245335151571549|10000241571549533515|\n",
            "|  19| 1000050|                 4|10000501250819125...|10000501251071125...|\n",
            "|  20| 1000050|                 9|10000501250819125...|10000501251071125...|\n",
            "|  21| 1000050|                 4|10000501250819163...|10000501635098125...|\n",
            "|  22| 1000050|                 9|10000501250819163...|10000501635098125...|\n",
            "|  23| 1000050|                 0|10000501251071125...|10000501250819125...|\n",
            "|  24| 1000050|                12|10000501251071125...|10000501250819125...|\n",
            "|  25| 1000050|                 0|10000501251071163...|10000501635098125...|\n",
            "+----+--------+------------------+--------------------+--------------------+\n",
            "only showing top 20 rows\n",
            "\n"
          ]
        }
      ],
      "source": [
        "temp_5 = spark.sql(\"SELECT t1.r_id, t1.user, t1.lifetime_indicator, t1.C1, t1.C2 FROM temp_3 t1\\\n",
        "                    LEFT JOIN temp_4 t2 ON t1.r_id = t2.r_id\\\n",
        "                    WHERE t2.r_id IS NULL\")\n",
        "temp_5.show()\n",
        "temp_5.createOrReplaceTempView(\"temp_5\")"
      ]
    },
    {
      "cell_type": "code",
      "execution_count": 56,
      "metadata": {
        "colab": {
          "base_uri": "https://localhost:8080/"
        },
        "id": "wn2FDhvpw63U",
        "outputId": "bed10f31-d2bd-4383-cc2e-4493507d540b"
      },
      "outputs": [
        {
          "name": "stdout",
          "output_type": "stream",
          "text": [
            "+----+------------------+---+\n",
            "|user|lifetime_indicator|cnt|\n",
            "+----+------------------+---+\n",
            "|  16|                 1|  1|\n",
            "|  89|                 2|  1|\n",
            "|  89|                 4|  1|\n",
            "| 112|                 8|  1|\n",
            "| 224|                 4|  1|\n",
            "| 224|                 6|  1|\n",
            "| 322|                 7|  1|\n",
            "| 322|                12|  1|\n",
            "| 361|                 0|  1|\n",
            "| 361|                 1|  1|\n",
            "| 361|                 5|  2|\n",
            "| 361|                 9|  1|\n",
            "| 759|                 5|  1|\n",
            "| 777|                 0|  1|\n",
            "| 777|                 2|  1|\n",
            "| 946|                11|  1|\n",
            "|1224|                 8|  1|\n",
            "|1234|                 0|  1|\n",
            "|1293|                12|  2|\n",
            "|1296|                10|  1|\n",
            "+----+------------------+---+\n",
            "only showing top 20 rows\n",
            "\n"
          ]
        }
      ],
      "source": [
        "temp_6 = spark.sql('SELECT user, lifetime_indicator, COUNT(*) AS cnt FROM temp_5\\\n",
        "                    GROUP BY 1,2\\\n",
        "                    ORDER BY 1,2')\n",
        "temp_6.show()\n",
        "temp_6.createOrReplaceTempView('temp_6')"
      ]
    },
    {
      "cell_type": "code",
      "execution_count": 57,
      "metadata": {
        "colab": {
          "base_uri": "https://localhost:8080/"
        },
        "id": "0Lg3-nu6zLbQ",
        "outputId": "c5f2857f-abdf-4329-a1a8-403538a63d98"
      },
      "outputs": [
        {
          "name": "stdout",
          "output_type": "stream",
          "text": [
            "+----+------------------+------------+----------------+-----+------------+\n",
            "|user|lifetime_indicator|friend_count|cum_friend_count|edges|cluster_coef|\n",
            "+----+------------------+------------+----------------+-----+------------+\n",
            "|   2|                 0|           1|               1|  0.0|         0.0|\n",
            "|   2|                 1|           0|               1|  0.0|         0.0|\n",
            "|   2|                 2|           0|               1|  0.0|         0.0|\n",
            "|   2|                 3|           0|               1|  0.0|         0.0|\n",
            "|   2|                 4|           0|               1|  0.0|         0.0|\n",
            "|   2|                 5|           0|               1|  0.0|         0.0|\n",
            "|   2|                 6|           0|               1|  0.0|         0.0|\n",
            "|   2|                 7|           0|               1|  0.0|         0.0|\n",
            "|   2|                 8|           0|               1|  0.0|         0.0|\n",
            "|   2|                 9|           0|               1|  0.0|         0.0|\n",
            "|   2|                10|           0|               1|  0.0|         0.0|\n",
            "|   2|                11|           0|               1|  0.0|         0.0|\n",
            "|   2|                12|           0|               1|  0.0|         0.0|\n",
            "|   3|                 0|           1|               1|  0.0|         0.0|\n",
            "|   3|                 1|           1|               2|  1.0|         0.0|\n",
            "|   3|                 2|           0|               2|  1.0|         0.0|\n",
            "|   3|                 3|           1|               3|  3.0|         0.0|\n",
            "|   3|                 4|           4|               7| 21.0|         0.0|\n",
            "|   3|                 5|           1|               8| 28.0|         0.0|\n",
            "|   3|                 6|           0|               8| 28.0|         0.0|\n",
            "|   3|                 7|           0|               8| 28.0|         0.0|\n",
            "|   3|                 8|           0|               8| 28.0|         0.0|\n",
            "|   3|                 9|           0|               8| 28.0|         0.0|\n",
            "|   3|                10|           0|               8| 28.0|         0.0|\n",
            "|   3|                11|           0|               8| 28.0|         0.0|\n",
            "|   3|                12|           0|               8| 28.0|         0.0|\n",
            "|   4|                 0|           1|               1|  0.0|         0.0|\n",
            "|   4|                 1|           1|               2|  1.0|         0.0|\n",
            "|   4|                 2|           1|               3|  3.0|         0.0|\n",
            "|   4|                 3|           0|               3|  3.0|         0.0|\n",
            "|   4|                 4|           0|               3|  3.0|         0.0|\n",
            "|   4|                 5|           0|               3|  3.0|         0.0|\n",
            "|   4|                 6|           0|               3|  3.0|         0.0|\n",
            "|   4|                 7|           0|               3|  3.0|         0.0|\n",
            "|   4|                 8|           0|               3|  3.0|         0.0|\n",
            "|   4|                 9|           0|               3|  3.0|         0.0|\n",
            "|   4|                10|           0|               3|  3.0|         0.0|\n",
            "|   4|                11|           0|               3|  3.0|         0.0|\n",
            "|   4|                12|           0|               3|  3.0|         0.0|\n",
            "|   6|                 0|           1|               1|  0.0|         0.0|\n",
            "+----+------------------+------------+----------------+-----+------------+\n",
            "only showing top 40 rows\n",
            "\n"
          ]
        }
      ],
      "source": [
        "clustering_coef = spark.sql(\"SELECT t1.user,t1.lifetime_indicator, t1.friend_count, t1.cum_friend_count, t1.edges, IFNULL(t2.cnt/t1.edges,0) AS cluster_coef\\\n",
        "                             FROM user_dynamic_edges t1\\\n",
        "                             LEFT JOIN temp_6 t2\\\n",
        "                             ON t1.user = t2.user \\\n",
        "                             AND t1.lifetime_indicator = t2.lifetime_indicator\\\n",
        "                             ORDER BY 1,2\")\n",
        "clustering_coef.show(60)\n",
        "clustering_coef.createOrReplaceTempView('clustering_coef')"
      ]
    },
    {
      "cell_type": "markdown",
      "metadata": {
        "id": "C6PBSz1csp2v"
      },
      "source": [
        "3. Calculate the page rank of each user"
      ]
    },
    {
      "cell_type": "code",
      "execution_count": 75,
      "metadata": {
        "id": "CJudnHagWJmY"
      },
      "outputs": [],
      "source": [
        "import networkx as nx\n",
        "G = nx.Graph()\n",
        "\n",
        "pairs = user_friends.select(\"user\", \"friend\")\n",
        "nx_tuples = pairs.rdd.map(tuple).collect()\n",
        "G.add_edges_from(nx_tuples)"
      ]
    },
    {
      "cell_type": "code",
      "execution_count": 76,
      "metadata": {
        "colab": {
          "base_uri": "https://localhost:8080/"
        },
        "id": "TnuZtaUFWWTS",
        "outputId": "8e92df1a-826c-42ec-c0d3-f2a70e9dd8f2"
      },
      "outputs": [
        {
          "name": "stderr",
          "output_type": "stream",
          "text": [
            "/usr/local/lib/python3.7/dist-packages/ipykernel_launcher.py:1: DeprecationWarning: networkx.pagerank_scipy is deprecated and will be removed in NetworkX 3.0, use networkx.pagerank instead.\n",
            "  \"\"\"Entry point for launching an IPython kernel.\n"
          ]
        },
        {
          "data": {
            "text/plain": [
              "{2: 4.157477977789461e-07,\n",
              " 3: 8.653820777473779e-07,\n",
              " 43: 3.2127973908043654e-06,\n",
              " 52: 1.6571325641882515e-07,\n",
              " 220: 1.435516964442576e-07,\n",
              " 191142: 2.7629757837595304e-07,\n",
              " 263437: 7.489934678145931e-07,\n",
              " 1079020: 4.2278735212380876e-07,\n",
              " 1204190: 8.981909064048241e-07,\n",
              " 2382556: 8.488874357040234e-08}"
            ]
          },
          "execution_count": 76,
          "metadata": {},
          "output_type": "execute_result"
        }
      ],
      "source": [
        "pagerank = nx.pagerank_scipy(G)\n",
        "dict(list(pagerank.items())[0:10])"
      ]
    },
    {
      "cell_type": "code",
      "execution_count": 77,
      "metadata": {
        "colab": {
          "base_uri": "https://localhost:8080/"
        },
        "id": "ILYuQtZYWYuM",
        "outputId": "81be76c9-1333-448a-8daa-18a79439fbe5"
      },
      "outputs": [
        {
          "name": "stdout",
          "output_type": "stream",
          "text": [
            "+-------+--------------------+\n",
            "|   user|            pagerank|\n",
            "+-------+--------------------+\n",
            "|      2|4.157477977789461E-7|\n",
            "|     43|3.212797390804365...|\n",
            "| 191142|2.762975783759530...|\n",
            "|    220|1.435516964442576E-7|\n",
            "|      3|8.653820777473779E-7|\n",
            "| 263437|7.489934678145931E-7|\n",
            "|1204190|8.981909064048241E-7|\n",
            "|     52|1.657132564188251...|\n",
            "|2382556|8.488874357040234E-8|\n",
            "|1079020|4.227873521238087...|\n",
            "|7854140|8.488874357040234E-8|\n",
            "| 567957|8.505700929517217E-7|\n",
            "|      4| 1.32619682638118E-6|\n",
            "| 125527|3.714991704683809...|\n",
            "| 221578|4.278156052272820...|\n",
            "| 187560|5.122902573656336E-7|\n",
            "|9271982|8.991699667387565E-8|\n",
            "| 968271|1.837777212720441E-7|\n",
            "| 122744|8.991699667387565E-8|\n",
            "| 125755|8.991699667387565E-8|\n",
            "+-------+--------------------+\n",
            "only showing top 20 rows\n",
            "\n"
          ]
        }
      ],
      "source": [
        "# covert dictionary to pyspark dateframe\n",
        "df_pagerank = pd.DataFrame(pagerank.items(), columns=['user', 'pagerank'])\n",
        "df_pagerank = spark.createDataFrame(df_pagerank)\n",
        "df_pagerank.createOrReplaceTempView(\"df_pagerank\")\n",
        "df_pagerank.show()"
      ]
    },
    {
      "cell_type": "code",
      "execution_count": 71,
      "metadata": {
        "colab": {
          "base_uri": "https://localhost:8080/"
        },
        "id": "DqB7b5dp3q5Y",
        "outputId": "03516691-996c-4857-e242-8a212a0a5a2e"
      },
      "outputs": [
        {
          "name": "stdout",
          "output_type": "stream",
          "text": [
            "+----+------------------+------------+----------------+-----+------------+---------+-------------+\n",
            "|user|lifetime_indicator|friend_count|cum_friend_count|edges|cluster_coef|fof_count|cum_fof_count|\n",
            "+----+------------------+------------+----------------+-----+------------+---------+-------------+\n",
            "|   2|                 0|           1|               1|  0.0|         0.0|        0|            0|\n",
            "|   2|                 1|           0|               1|  0.0|         0.0|        0|            0|\n",
            "|   2|                 2|           0|               1|  0.0|         0.0|        0|            0|\n",
            "|   2|                 3|           0|               1|  0.0|         0.0|        0|            0|\n",
            "|   2|                 4|           0|               1|  0.0|         0.0|        0|            0|\n",
            "|   2|                 5|           0|               1|  0.0|         0.0|        0|            0|\n",
            "|   2|                 6|           0|               1|  0.0|         0.0|        0|            0|\n",
            "|   2|                 7|           0|               1|  0.0|         0.0|        0|            0|\n",
            "|   2|                 8|           0|               1|  0.0|         0.0|        0|            0|\n",
            "|   2|                 9|           0|               1|  0.0|         0.0|        0|            0|\n",
            "|   2|                10|           0|               1|  0.0|         0.0|        0|            0|\n",
            "|   2|                11|           0|               1|  0.0|         0.0|        0|            0|\n",
            "|   2|                12|           0|               1|  0.0|         0.0|        0|            0|\n",
            "|   3|                 0|           1|               1|  0.0|         0.0|        6|            6|\n",
            "|   3|                 1|           1|               2|  1.0|         0.0|        8|           14|\n",
            "|   3|                 2|           0|               2|  1.0|         0.0|        0|           14|\n",
            "|   3|                 3|           1|               3|  3.0|         0.0|        1|           15|\n",
            "|   3|                 4|           4|               7| 21.0|         0.0|        6|           21|\n",
            "|   3|                 5|           1|               8| 28.0|         0.0|        8|           29|\n",
            "|   3|                 6|           0|               8| 28.0|         0.0|        0|           29|\n",
            "+----+------------------+------------+----------------+-----+------------+---------+-------------+\n",
            "only showing top 20 rows\n",
            "\n"
          ]
        }
      ],
      "source": [
        "social_network_all = spark.sql(\"SELECT t1.user, t1.lifetime_indicator, t1.friend_count, t1.cum_friend_count,t1.edges, t1.cluster_coef, t2.fof_count, t2.cum_fof_count\\\n",
        "                                FROM clustering_coef t1 INNER JOIN user_dynamic_fof_cum t2\\\n",
        "                                ON t1.user = t2.user\\\n",
        "                                AND t1.lifetime_indicator = t2.lifetime_indicator\\\n",
        "                                ORDER BY 1,2 \")\n",
        "social_network_all.show()"
      ]
    },
    {
      "cell_type": "code",
      "execution_count": null,
      "metadata": {
        "id": "4KG19o00aEVM"
      },
      "outputs": [],
      "source": [
        "#social_network_all.createOrReplaceTempView('social_network_all')\n",
        "social_network_all.write.parquet('/content/drive/social_network_all.parquet')"
      ]
    }
  ],
  "metadata": {
    "colab": {
      "collapsed_sections": [],
      "name": "Untitled17.ipynb",
      "provenance": []
    },
    "kernelspec": {
      "display_name": "Python 3",
      "name": "python3"
    },
    "language_info": {
      "name": "python"
    }
  },
  "nbformat": 4,
  "nbformat_minor": 0
}
